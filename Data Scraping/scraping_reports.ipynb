{
 "cells": [
  {
   "cell_type": "markdown",
   "id": "d51a5868adb45f97",
   "metadata": {
    "collapsed": false
   },
   "source": [
    "# Scraping Open Data Documents from Rijksoverheid\n",
    "\n",
    "This notebook scrapes and processes ICT-related reports from the Dutch government's open data portal. Information on how to access these documents is available on the website of [Rijksoverheid (the Dutch Government website](https://www.rijksoverheid.nl/opendata/documenten). The goal is to compile a dataset of these documents, including their metadata and content, into a CSV file."
   ]
  },
  {
   "cell_type": "markdown",
   "id": "cce2195538db8185",
   "metadata": {
    "collapsed": false
   },
   "source": [
    "### Importing libraries"
   ]
  },
  {
   "cell_type": "code",
   "execution_count": 27,
   "id": "11c92264adb72b81",
   "metadata": {
    "ExecuteTime": {
     "end_time": "2024-05-20T10:01:04.153240Z",
     "start_time": "2024-05-20T10:01:04.150747Z"
    },
    "collapsed": false
   },
   "outputs": [],
   "source": [
    "import requests\n",
    "from bs4 import BeautifulSoup\n",
    "import pandas as pd\n",
    "import xml.etree.ElementTree as ET\n",
    "from tqdm import tqdm\n",
    "import os\n",
    "from pathlib import Path"
   ]
  },
  {
   "cell_type": "markdown",
   "id": "82c5e862417e5750",
   "metadata": {
    "collapsed": false
   },
   "source": [
    "### Fetching the list of documents"
   ]
  },
  {
   "cell_type": "code",
   "execution_count": 28,
   "id": "818545cd410a6b67",
   "metadata": {
    "ExecuteTime": {
     "end_time": "2024-05-20T10:01:04.540254Z",
     "start_time": "2024-05-20T10:01:04.538029Z"
    },
    "collapsed": false
   },
   "outputs": [],
   "source": [
    "# create directory\n",
    "Path(\"../Data/Rijksoverheid\").mkdir(parents=True, exist_ok=True)"
   ]
  },
  {
   "cell_type": "code",
   "execution_count": 29,
   "id": "fb440617e7e0d3a2",
   "metadata": {
    "ExecuteTime": {
     "end_time": "2024-05-20T10:01:04.744454Z",
     "start_time": "2024-05-20T10:01:04.740976Z"
    },
    "collapsed": false
   },
   "outputs": [],
   "source": [
    "# Function to fetch documents\n",
    "def fetch_documents(subject, initial_date, type, offset, rows):\n",
    "    \"\"\"\n",
    "    Fetches documents from the Rijksoverheid API based on the specified parameters.\n",
    "    :param subject: the subject of the documents to fetch\n",
    "    :param initial_date: the initial date from which to fetch documents\n",
    "    :param offset: the offset to start fetching documents from\n",
    "    :param rows: the number of rows to fetch\n",
    "    :return: the XML response text if successful, None otherwise\n",
    "    \"\"\"\n",
    "    base_url = \"https://opendata.rijksoverheid.nl/v1/documents\"\n",
    "    params = {\n",
    "        \"subject\": subject,\n",
    "        \"initialdatesince\": initial_date,\n",
    "        \"type\": type,\n",
    "        \"offset\": offset,\n",
    "        \"rows\": rows\n",
    "    }\n",
    "    response = requests.get(base_url, params=params)\n",
    "    if response.status_code == 200:\n",
    "        return response.text\n",
    "    else:\n",
    "        return None"
   ]
  },
  {
   "cell_type": "markdown",
   "id": "3984f359709048af",
   "metadata": {
    "collapsed": false
   },
   "source": [
    "### Parsing the XML response"
   ]
  },
  {
   "cell_type": "code",
   "execution_count": 30,
   "id": "3f9662d4b6183813",
   "metadata": {
    "ExecuteTime": {
     "end_time": "2024-05-20T10:01:05.113384Z",
     "start_time": "2024-05-20T10:01:05.108748Z"
    },
    "collapsed": false
   },
   "outputs": [],
   "source": [
    "# Function to parse XML and extract document metadata\n",
    "def parse_xml(xml_data):\n",
    "    \"\"\"\n",
    "    Parses the XML data and extracts the metadata for each document.\n",
    "    :param xml_data: XML data to parse\n",
    "    :return: a list of dictionaries containing the metadata for each document\n",
    "    \"\"\"\n",
    "    documents = []\n",
    "    root = ET.fromstring(xml_data)\n",
    "    for doc in root.findall('document'):\n",
    "        metadata = {\n",
    "            \"id\": doc.find('id').text,\n",
    "            \"type\": doc.find('type').text,\n",
    "            \"title\": doc.find('title').text,\n",
    "            \"canonical\": doc.find('canonical').text,\n",
    "            \"introduction\": \"\",\n",
    "            \"lastmodified\": doc.find('lastmodified').text,\n",
    "            \"available\": doc.find('available').text,\n",
    "            \"initialdate\": doc.find('initialdate').text,\n",
    "        }\n",
    "        \n",
    "        # Handling introduction extraction within <p> tags\n",
    "        intro_html = doc.find('introduction').text\n",
    "        if intro_html is not None:\n",
    "            intro_soup = BeautifulSoup(intro_html, 'html.parser')\n",
    "            paragraphs = [p.get_text() for p in intro_soup.find_all('p')]\n",
    "            metadata['introduction'] = \" \".join(paragraphs).strip()\n",
    "        \n",
    "        documents.append(metadata)\n",
    "    return documents"
   ]
  },
  {
   "cell_type": "markdown",
   "id": "eb0f6804937139de",
   "metadata": {
    "collapsed": false
   },
   "source": [
    "### Downloading and extracting text from the PDFs"
   ]
  },
  {
   "cell_type": "code",
   "execution_count": 88,
   "id": "1a7988e8bb9bc15a",
   "metadata": {
    "ExecuteTime": {
     "end_time": "2024-05-20T10:31:33.245059Z",
     "start_time": "2024-05-20T10:31:33.239104Z"
    },
    "collapsed": false
   },
   "outputs": [],
   "source": [
    "def download_pdf(url):\n",
    "    \"\"\"\n",
    "    Downloads a PDF file from the specified URL and returns the path to the downloaded file.\n",
    "    :param url: the URL of the PDF file to download\n",
    "    :return: the path to the downloaded PDF file if successful, None otherwise\n",
    "    \"\"\"\n",
    "    # Ensure the directory exists\n",
    "    Path(\"../Data/Rijksoverheid/rapporten\").mkdir(parents=True, exist_ok=True)\n",
    "    \n",
    "    # Extract parts of the URL to create a more descriptive filename\n",
    "    parts = url.strip().split('/')\n",
    "    # Attempt to create a filename using the last two segments before '.pdf'\n",
    "    if len(parts) > 2:\n",
    "        file_name = parts[-2] + \"_\" + parts[-1]\n",
    "    else:\n",
    "        file_name = parts[-1]\n",
    "\n",
    "    # Ensure the file ends with '.pdf'\n",
    "    if not file_name.lower().endswith('.pdf'):\n",
    "        file_name += \".pdf\"\n",
    "\n",
    "    file_path = f\"../Data/Rijksoverheid/rapporten/{file_name}\"\n",
    "    \n",
    "    try:\n",
    "        # Make a request to the PDF URL\n",
    "        response = requests.get(url)\n",
    "        response.raise_for_status()\n",
    "        \n",
    "        # Save the pdf file\n",
    "        with open(file_path, 'wb') as f:\n",
    "            f.write(response.content)\n",
    "        return file_path\n",
    "    except requests.RequestException as e:\n",
    "        print(f\"Failed to download {url}: {str(e)}\")\n",
    "        return None"
   ]
  },
  {
   "cell_type": "markdown",
   "id": "f6571e5fe4899103",
   "metadata": {
    "collapsed": false
   },
   "source": [
    "### Scraping the content"
   ]
  },
  {
   "cell_type": "code",
   "execution_count": 89,
   "id": "89a3f35acf1ec449",
   "metadata": {
    "ExecuteTime": {
     "end_time": "2024-05-20T10:31:34.248349Z",
     "start_time": "2024-05-20T10:31:34.243227Z"
    },
    "collapsed": false
   },
   "outputs": [],
   "source": [
    "# Updated scrape_content function to handle PDF content\n",
    "def scrape_content(url):\n",
    "    \"\"\"\n",
    "    Scrapes the content from the URL. Often the content is in a PDF file, so we attempt to download and extract the text from the PDF.\n",
    "    :param url: the URL to scrape content from\n",
    "    :return: the scraped content if successful, an empty string otherwise\n",
    "    \"\"\"\n",
    "    response = requests.get(url)\n",
    "    response.raise_for_status()\n",
    "    if response.status_code == 200:\n",
    "        soup = BeautifulSoup(response.text, 'html.parser')\n",
    "        intro_div = soup.find('div', class_='intro')\n",
    "        # Try to find a PDF link in the introduction div, else get all <p> tags\n",
    "        if intro_div:\n",
    "            pdf_link = intro_div.find('a', href=True)['href'] if intro_div.find('a', href=True) else None\n",
    "            if pdf_link:\n",
    "                pdf_path = download_pdf(pdf_link)\n",
    "                return pdf_path\n",
    "        # If no PDF is found or extraction failed, return None\n",
    "        return \"No PDF found or extraction failed.\"\n",
    "            \n",
    "    return \"\""
   ]
  },
  {
   "cell_type": "markdown",
   "id": "277b5bafdf09032f",
   "metadata": {
    "collapsed": false
   },
   "source": [
    "### Fetching and processing documents"
   ]
  },
  {
   "cell_type": "code",
   "execution_count": 90,
   "id": "140e4b0c1af91ef7",
   "metadata": {
    "ExecuteTime": {
     "end_time": "2024-05-20T10:31:34.816459Z",
     "start_time": "2024-05-20T10:31:34.810939Z"
    },
    "collapsed": false
   },
   "outputs": [],
   "source": [
    "# Adjusted main function to skip certain document types\n",
    "def fetch_and_save_documents(subject, initial_date, type, csv_file_path):\n",
    "    \"\"\"\n",
    "    Fetches and processes documents from the Rijksoverheid API based on the specified parameters and saves them to a CSV file.\n",
    "    :param subject: the subject of the documents to fetch (see https://www.rijksoverheid.nl/opendata/documenten)\n",
    "    :param initial_date: the initial date from which to fetch documents (format: YYYYMMDD)\n",
    "    :param csv_file_path: the path to save the CSV file\n",
    "    :return: None\n",
    "    \"\"\"\n",
    "    offset = 1\n",
    "    rows = 200\n",
    "    file_exists = os.path.exists(csv_file_path)\n",
    "    \n",
    "    while True:\n",
    "        xml_data = fetch_documents(subject, initial_date, type, offset, rows)\n",
    "        if xml_data:\n",
    "            documents = parse_xml(xml_data)\n",
    "            if not documents:\n",
    "                break\n",
    "            batch_documents = []\n",
    "            for doc in tqdm(documents, desc=f\"Processing documents {offset} to {offset + len(documents) - 1}\"):\n",
    "                doc['content'] = scrape_content(doc['canonical'])\n",
    "                batch_documents.append(doc)\n",
    "                \n",
    "            # Convert the batch documents to a DataFrame\n",
    "            batch_df = pd.DataFrame(batch_documents)\n",
    "            # Append to the CSV file\n",
    "            if not file_exists:\n",
    "                batch_df.to_csv(csv_file_path, mode='w', header=True, index=False)\n",
    "                file_exists = True # Ensure header is written only once\n",
    "            else:\n",
    "                batch_df.to_csv(csv_file_path, mode='a', header=False, index=False)\n",
    "            \n",
    "            offset += rows\n",
    "        else:\n",
    "            break\n",
    "    print(\"All documents processed and saved to CSV file.\")"
   ]
  },
  {
   "cell_type": "markdown",
   "id": "7894f3391aa2c470",
   "metadata": {
    "collapsed": false
   },
   "source": [
    "### Scrape"
   ]
  },
  {
   "cell_type": "code",
   "execution_count": 92,
   "id": "a7429671f543eb02",
   "metadata": {
    "ExecuteTime": {
     "end_time": "2024-05-20T10:31:55.151743Z",
     "start_time": "2024-05-20T10:31:51.757464Z"
    },
    "collapsed": false
   },
   "outputs": [
    {
     "name": "stderr",
     "output_type": "stream",
     "text": [
      "Processing documents 1 to 7: 100%|██████████| 7/7 [00:03<00:00,  2.14it/s]"
     ]
    },
    {
     "name": "stdout",
     "output_type": "stream",
     "text": [
      "All documents processed and saved to CSV file.\n"
     ]
    },
    {
     "name": "stderr",
     "output_type": "stream",
     "text": [
      "\n"
     ]
    }
   ],
   "source": [
    "csv_file_path = '../Data/Rijksoverheid/reports_ict_20240201.csv'\n",
    "fetch_and_save_documents('ict', '20240201', 'rapport', csv_file_path)"
   ]
  },
  {
   "cell_type": "code",
   "execution_count": 93,
   "id": "cd2805823c5e2a69",
   "metadata": {
    "ExecuteTime": {
     "end_time": "2024-05-20T10:32:05.143089Z",
     "start_time": "2024-05-20T10:32:05.130393Z"
    },
    "collapsed": false
   },
   "outputs": [
    {
     "data": {
      "text/html": [
       "<div>\n",
       "<style scoped>\n",
       "    .dataframe tbody tr th:only-of-type {\n",
       "        vertical-align: middle;\n",
       "    }\n",
       "\n",
       "    .dataframe tbody tr th {\n",
       "        vertical-align: top;\n",
       "    }\n",
       "\n",
       "    .dataframe thead th {\n",
       "        text-align: right;\n",
       "    }\n",
       "</style>\n",
       "<table border=\"1\" class=\"dataframe\">\n",
       "  <thead>\n",
       "    <tr style=\"text-align: right;\">\n",
       "      <th></th>\n",
       "      <th>id</th>\n",
       "      <th>type</th>\n",
       "      <th>title</th>\n",
       "      <th>canonical</th>\n",
       "      <th>introduction</th>\n",
       "      <th>lastmodified</th>\n",
       "      <th>available</th>\n",
       "      <th>initialdate</th>\n",
       "      <th>content</th>\n",
       "    </tr>\n",
       "  </thead>\n",
       "  <tbody>\n",
       "    <tr>\n",
       "      <th>0</th>\n",
       "      <td>deb57a9f-0038-4056-9e03-7dc187f5178b</td>\n",
       "      <td>rapport</td>\n",
       "      <td>Raamwerk Online Leeftijdsverificatie</td>\n",
       "      <td>https://www.rijksoverheid.nl/documenten/rappor...</td>\n",
       "      <td>Dit afwegingskader is bedoeld om ontwikkelaars...</td>\n",
       "      <td>2024-04-09T13:40:29.065Z</td>\n",
       "      <td>2024-04-09T13:36:30.546Z</td>\n",
       "      <td>2024-04-09T13:50:36.074+02:00</td>\n",
       "      <td>../Data/Rijksoverheid/rapporten/b93b2880-0c26-...</td>\n",
       "    </tr>\n",
       "    <tr>\n",
       "      <th>1</th>\n",
       "      <td>9bf78cb9-2edd-4f99-9903-6241a65f901a</td>\n",
       "      <td>rapport</td>\n",
       "      <td>Arbeidsvoorwaardenonderzoek Rijksoverheid ICT</td>\n",
       "      <td>https://www.rijksoverheid.nl/documenten/rappor...</td>\n",
       "      <td>Arbeidsvoorwaardenonderzoek Rijksoverheid ICT</td>\n",
       "      <td>2024-04-09T13:40:39.307Z</td>\n",
       "      <td>2024-04-09T13:36:29.187Z</td>\n",
       "      <td>2024-04-09T13:50:52.163+02:00</td>\n",
       "      <td>../Data/Rijksoverheid/rapporten/f8ab09b6-7ea9-...</td>\n",
       "    </tr>\n",
       "    <tr>\n",
       "      <th>2</th>\n",
       "      <td>836dc993-196d-40cf-9dbc-11c0271a8ab2</td>\n",
       "      <td>rapport</td>\n",
       "      <td>Afschrift brief Definitief BIT advies beheer e...</td>\n",
       "      <td>https://www.rijksoverheid.nl/documenten/rappor...</td>\n",
       "      <td>Afschrift van de brief van het Adviescollege I...</td>\n",
       "      <td>2024-03-07T09:00:01.905Z</td>\n",
       "      <td>2024-03-07T08:53:41.311Z</td>\n",
       "      <td>2024-03-06T18:35:08.908+01:00</td>\n",
       "      <td>../Data/Rijksoverheid/rapporten/dpc-0dad420545...</td>\n",
       "    </tr>\n",
       "    <tr>\n",
       "      <th>3</th>\n",
       "      <td>d6e48953-6c86-4e8d-89cc-4b6bca11e03e</td>\n",
       "      <td>rapport</td>\n",
       "      <td>Onderzoek digitale competenties (DIGCOM)</td>\n",
       "      <td>https://www.rijksoverheid.nl/documenten/rappor...</td>\n",
       "      <td>In dit rapport worden de digitale competenties...</td>\n",
       "      <td>2024-04-09T13:40:13.816Z</td>\n",
       "      <td>2024-04-09T13:36:30.262Z</td>\n",
       "      <td>2024-04-09T13:50:06.529+02:00</td>\n",
       "      <td>../Data/Rijksoverheid/rapporten/2d466bc4-67b1-...</td>\n",
       "    </tr>\n",
       "    <tr>\n",
       "      <th>4</th>\n",
       "      <td>6371ce32-11db-44f2-ba94-45789f077da3</td>\n",
       "      <td>rapport</td>\n",
       "      <td>Jaarmonitor Digitale Toegankelijkheid 2023</td>\n",
       "      <td>https://www.rijksoverheid.nl/documenten/rappor...</td>\n",
       "      <td>Jaarmonitor Digitale Toegankelijkheid 2023</td>\n",
       "      <td>2024-04-09T13:40:35.725Z</td>\n",
       "      <td>2024-04-09T13:36:29.961Z</td>\n",
       "      <td>2024-04-09T13:50:46.781+02:00</td>\n",
       "      <td>../Data/Rijksoverheid/rapporten/ebf701d1-bc49-...</td>\n",
       "    </tr>\n",
       "    <tr>\n",
       "      <th>5</th>\n",
       "      <td>52449578-0a0f-4bd1-9b8a-5b72f6497895</td>\n",
       "      <td>rapport</td>\n",
       "      <td>Too late to act? Europe's quest for cloud sove...</td>\n",
       "      <td>https://www.rijksoverheid.nl/documenten/rappor...</td>\n",
       "      <td>Dit document is enkel in het Engels beschikbaa...</td>\n",
       "      <td>2024-04-23T08:35:02.092Z</td>\n",
       "      <td>2024-04-23T08:31:38.617Z</td>\n",
       "      <td>2024-04-23T09:55:13.157+02:00</td>\n",
       "      <td>../Data/Rijksoverheid/rapporten/8e449da5-0a87-...</td>\n",
       "    </tr>\n",
       "    <tr>\n",
       "      <th>6</th>\n",
       "      <td>5bd73236-d17d-4ec6-8354-06040cb582d4</td>\n",
       "      <td>rapport</td>\n",
       "      <td>Kabinetsappreciatie witboek over digitale infr...</td>\n",
       "      <td>https://www.rijksoverheid.nl/documenten/rappor...</td>\n",
       "      <td>Kabinetsreactie op het witboek ‘How to master ...</td>\n",
       "      <td>2024-04-05T13:35:13.712Z</td>\n",
       "      <td>2024-04-05T13:31:36.663Z</td>\n",
       "      <td>2024-04-05T15:05:05.980+02:00</td>\n",
       "      <td>../Data/Rijksoverheid/rapporten/4fbe64a7-b945-...</td>\n",
       "    </tr>\n",
       "  </tbody>\n",
       "</table>\n",
       "</div>"
      ],
      "text/plain": [
       "                                     id     type  \\\n",
       "0  deb57a9f-0038-4056-9e03-7dc187f5178b  rapport   \n",
       "1  9bf78cb9-2edd-4f99-9903-6241a65f901a  rapport   \n",
       "2  836dc993-196d-40cf-9dbc-11c0271a8ab2  rapport   \n",
       "3  d6e48953-6c86-4e8d-89cc-4b6bca11e03e  rapport   \n",
       "4  6371ce32-11db-44f2-ba94-45789f077da3  rapport   \n",
       "5  52449578-0a0f-4bd1-9b8a-5b72f6497895  rapport   \n",
       "6  5bd73236-d17d-4ec6-8354-06040cb582d4  rapport   \n",
       "\n",
       "                                               title  \\\n",
       "0               Raamwerk Online Leeftijdsverificatie   \n",
       "1      Arbeidsvoorwaardenonderzoek Rijksoverheid ICT   \n",
       "2  Afschrift brief Definitief BIT advies beheer e...   \n",
       "3           Onderzoek digitale competenties (DIGCOM)   \n",
       "4         Jaarmonitor Digitale Toegankelijkheid 2023   \n",
       "5  Too late to act? Europe's quest for cloud sove...   \n",
       "6  Kabinetsappreciatie witboek over digitale infr...   \n",
       "\n",
       "                                           canonical  \\\n",
       "0  https://www.rijksoverheid.nl/documenten/rappor...   \n",
       "1  https://www.rijksoverheid.nl/documenten/rappor...   \n",
       "2  https://www.rijksoverheid.nl/documenten/rappor...   \n",
       "3  https://www.rijksoverheid.nl/documenten/rappor...   \n",
       "4  https://www.rijksoverheid.nl/documenten/rappor...   \n",
       "5  https://www.rijksoverheid.nl/documenten/rappor...   \n",
       "6  https://www.rijksoverheid.nl/documenten/rappor...   \n",
       "\n",
       "                                        introduction  \\\n",
       "0  Dit afwegingskader is bedoeld om ontwikkelaars...   \n",
       "1      Arbeidsvoorwaardenonderzoek Rijksoverheid ICT   \n",
       "2  Afschrift van de brief van het Adviescollege I...   \n",
       "3  In dit rapport worden de digitale competenties...   \n",
       "4         Jaarmonitor Digitale Toegankelijkheid 2023   \n",
       "5  Dit document is enkel in het Engels beschikbaa...   \n",
       "6  Kabinetsreactie op het witboek ‘How to master ...   \n",
       "\n",
       "               lastmodified                 available  \\\n",
       "0  2024-04-09T13:40:29.065Z  2024-04-09T13:36:30.546Z   \n",
       "1  2024-04-09T13:40:39.307Z  2024-04-09T13:36:29.187Z   \n",
       "2  2024-03-07T09:00:01.905Z  2024-03-07T08:53:41.311Z   \n",
       "3  2024-04-09T13:40:13.816Z  2024-04-09T13:36:30.262Z   \n",
       "4  2024-04-09T13:40:35.725Z  2024-04-09T13:36:29.961Z   \n",
       "5  2024-04-23T08:35:02.092Z  2024-04-23T08:31:38.617Z   \n",
       "6  2024-04-05T13:35:13.712Z  2024-04-05T13:31:36.663Z   \n",
       "\n",
       "                     initialdate  \\\n",
       "0  2024-04-09T13:50:36.074+02:00   \n",
       "1  2024-04-09T13:50:52.163+02:00   \n",
       "2  2024-03-06T18:35:08.908+01:00   \n",
       "3  2024-04-09T13:50:06.529+02:00   \n",
       "4  2024-04-09T13:50:46.781+02:00   \n",
       "5  2024-04-23T09:55:13.157+02:00   \n",
       "6  2024-04-05T15:05:05.980+02:00   \n",
       "\n",
       "                                             content  \n",
       "0  ../Data/Rijksoverheid/rapporten/b93b2880-0c26-...  \n",
       "1  ../Data/Rijksoverheid/rapporten/f8ab09b6-7ea9-...  \n",
       "2  ../Data/Rijksoverheid/rapporten/dpc-0dad420545...  \n",
       "3  ../Data/Rijksoverheid/rapporten/2d466bc4-67b1-...  \n",
       "4  ../Data/Rijksoverheid/rapporten/ebf701d1-bc49-...  \n",
       "5  ../Data/Rijksoverheid/rapporten/8e449da5-0a87-...  \n",
       "6  ../Data/Rijksoverheid/rapporten/4fbe64a7-b945-...  "
      ]
     },
     "execution_count": 93,
     "metadata": {},
     "output_type": "execute_result"
    }
   ],
   "source": [
    "# check the first few rows of the dataset\n",
    "df = pd.read_csv('../Data/Rijksoverheid/reports_ict_20240201.csv')\n",
    "df"
   ]
  },
  {
   "cell_type": "code",
   "execution_count": 12,
   "id": "7bdf2bb50d3aadd",
   "metadata": {
    "ExecuteTime": {
     "end_time": "2024-04-02T09:59:30.144298Z",
     "start_time": "2024-04-02T09:59:30.135004Z"
    },
    "collapsed": false
   },
   "outputs": [
    {
     "name": "stdout",
     "output_type": "stream",
     "text": [
      "<class 'pandas.core.frame.DataFrame'>\n",
      "RangeIndex: 427 entries, 0 to 426\n",
      "Data columns (total 9 columns):\n",
      " #   Column        Non-Null Count  Dtype \n",
      "---  ------        --------------  ----- \n",
      " 0   id            427 non-null    object\n",
      " 1   type          427 non-null    object\n",
      " 2   title         427 non-null    object\n",
      " 3   canonical     427 non-null    object\n",
      " 4   introduction  427 non-null    object\n",
      " 5   lastmodified  427 non-null    object\n",
      " 6   available     427 non-null    object\n",
      " 7   initialdate   427 non-null    object\n",
      " 8   content       422 non-null    object\n",
      "dtypes: object(9)\n",
      "memory usage: 30.2+ KB\n"
     ]
    }
   ],
   "source": [
    "df.info()"
   ]
  },
  {
   "cell_type": "code",
   "execution_count": 13,
   "id": "dc6c24f91dc255a3",
   "metadata": {
    "ExecuteTime": {
     "end_time": "2024-04-02T09:59:30.152769Z",
     "start_time": "2024-04-02T09:59:30.145179Z"
    },
    "collapsed": false
   },
   "outputs": [
    {
     "data": {
      "text/html": [
       "<div>\n",
       "<style scoped>\n",
       "    .dataframe tbody tr th:only-of-type {\n",
       "        vertical-align: middle;\n",
       "    }\n",
       "\n",
       "    .dataframe tbody tr th {\n",
       "        vertical-align: top;\n",
       "    }\n",
       "\n",
       "    .dataframe thead th {\n",
       "        text-align: right;\n",
       "    }\n",
       "</style>\n",
       "<table border=\"1\" class=\"dataframe\">\n",
       "  <thead>\n",
       "    <tr style=\"text-align: right;\">\n",
       "      <th></th>\n",
       "      <th>id</th>\n",
       "      <th>type</th>\n",
       "      <th>title</th>\n",
       "      <th>canonical</th>\n",
       "      <th>introduction</th>\n",
       "      <th>lastmodified</th>\n",
       "      <th>available</th>\n",
       "      <th>initialdate</th>\n",
       "      <th>content</th>\n",
       "    </tr>\n",
       "  </thead>\n",
       "  <tbody>\n",
       "    <tr>\n",
       "      <th>167</th>\n",
       "      <td>031c9ba6-b36f-444f-a683-9a2d134a8021</td>\n",
       "      <td>beleidsnota</td>\n",
       "      <td>Beslisnota bij antwoorden op Kamervragen over ...</td>\n",
       "      <td>https://www.rijksoverheid.nl/documenten/beleid...</td>\n",
       "      <td>In een beslisnota staat achtergrondinformatie ...</td>\n",
       "      <td>2022-11-22T14:10:28.258Z</td>\n",
       "      <td>2022-11-18T09:32:00.000Z</td>\n",
       "      <td>2022-11-18T10:35:08.494+01:00</td>\n",
       "      <td>NaN</td>\n",
       "    </tr>\n",
       "    <tr>\n",
       "      <th>193</th>\n",
       "      <td>c9a0943e-a057-4db2-bf52-a2f1ac8969d1</td>\n",
       "      <td>beleidsnota</td>\n",
       "      <td>Beslisnota bij antwoorden Kamervragen over toe...</td>\n",
       "      <td>https://www.rijksoverheid.nl/documenten/beleid...</td>\n",
       "      <td>In een beslisnota staat achtergrondinformatie ...</td>\n",
       "      <td>2022-11-28T09:19:38.056Z</td>\n",
       "      <td>2022-11-11T16:55:00.000Z</td>\n",
       "      <td>2022-11-11T18:12:56.474+01:00</td>\n",
       "      <td>NaN</td>\n",
       "    </tr>\n",
       "    <tr>\n",
       "      <th>205</th>\n",
       "      <td>12741548-91f5-4f41-b0cc-d380bf4125b1</td>\n",
       "      <td>rapport</td>\n",
       "      <td>Convenant waarborging .nl-domein 2022-2029</td>\n",
       "      <td>https://www.rijksoverheid.nl/documenten/rappor...</td>\n",
       "      <td>Het convenant tussen EZK en de Stichting Inter...</td>\n",
       "      <td>2022-12-07T14:26:05.870Z</td>\n",
       "      <td>2022-11-23T10:14:00.000Z</td>\n",
       "      <td>2022-11-23T11:20:07.248+01:00</td>\n",
       "      <td>NaN</td>\n",
       "    </tr>\n",
       "    <tr>\n",
       "      <th>208</th>\n",
       "      <td>e8c135f0-bade-4272-bdfe-1cfef4532e89</td>\n",
       "      <td>kamerstuk</td>\n",
       "      <td>Kamerbrief over advies van het Adviescollege I...</td>\n",
       "      <td>https://www.rijksoverheid.nl/documenten/kamers...</td>\n",
       "      <td>Minister Yeşilgöz-Zegerius (JenV) stuurt de Tw...</td>\n",
       "      <td>2022-12-07T09:12:45.219Z</td>\n",
       "      <td>2022-11-24T18:28:00.000Z</td>\n",
       "      <td>2022-11-24T18:40:07.314+01:00</td>\n",
       "      <td>NaN</td>\n",
       "    </tr>\n",
       "    <tr>\n",
       "      <th>335</th>\n",
       "      <td>c69b41f5-8fdd-4409-8d00-8b2827a059f8</td>\n",
       "      <td>beleidsnota</td>\n",
       "      <td>Beslisnota bij Kamerbrief over planning en voo...</td>\n",
       "      <td>https://www.rijksoverheid.nl/documenten/beleid...</td>\n",
       "      <td>In een beslisnota staat achtergrondinformatie ...</td>\n",
       "      <td>2024-02-14T10:55:13.395Z</td>\n",
       "      <td>2024-02-14T10:48:57.349Z</td>\n",
       "      <td>2024-02-14T08:50:04.933+01:00</td>\n",
       "      <td>NaN</td>\n",
       "    </tr>\n",
       "  </tbody>\n",
       "</table>\n",
       "</div>"
      ],
      "text/plain": [
       "                                       id         type  \\\n",
       "167  031c9ba6-b36f-444f-a683-9a2d134a8021  beleidsnota   \n",
       "193  c9a0943e-a057-4db2-bf52-a2f1ac8969d1  beleidsnota   \n",
       "205  12741548-91f5-4f41-b0cc-d380bf4125b1      rapport   \n",
       "208  e8c135f0-bade-4272-bdfe-1cfef4532e89    kamerstuk   \n",
       "335  c69b41f5-8fdd-4409-8d00-8b2827a059f8  beleidsnota   \n",
       "\n",
       "                                                 title  \\\n",
       "167  Beslisnota bij antwoorden op Kamervragen over ...   \n",
       "193  Beslisnota bij antwoorden Kamervragen over toe...   \n",
       "205         Convenant waarborging .nl-domein 2022-2029   \n",
       "208  Kamerbrief over advies van het Adviescollege I...   \n",
       "335  Beslisnota bij Kamerbrief over planning en voo...   \n",
       "\n",
       "                                             canonical  \\\n",
       "167  https://www.rijksoverheid.nl/documenten/beleid...   \n",
       "193  https://www.rijksoverheid.nl/documenten/beleid...   \n",
       "205  https://www.rijksoverheid.nl/documenten/rappor...   \n",
       "208  https://www.rijksoverheid.nl/documenten/kamers...   \n",
       "335  https://www.rijksoverheid.nl/documenten/beleid...   \n",
       "\n",
       "                                          introduction  \\\n",
       "167  In een beslisnota staat achtergrondinformatie ...   \n",
       "193  In een beslisnota staat achtergrondinformatie ...   \n",
       "205  Het convenant tussen EZK en de Stichting Inter...   \n",
       "208  Minister Yeşilgöz-Zegerius (JenV) stuurt de Tw...   \n",
       "335  In een beslisnota staat achtergrondinformatie ...   \n",
       "\n",
       "                 lastmodified                 available  \\\n",
       "167  2022-11-22T14:10:28.258Z  2022-11-18T09:32:00.000Z   \n",
       "193  2022-11-28T09:19:38.056Z  2022-11-11T16:55:00.000Z   \n",
       "205  2022-12-07T14:26:05.870Z  2022-11-23T10:14:00.000Z   \n",
       "208  2022-12-07T09:12:45.219Z  2022-11-24T18:28:00.000Z   \n",
       "335  2024-02-14T10:55:13.395Z  2024-02-14T10:48:57.349Z   \n",
       "\n",
       "                       initialdate content  \n",
       "167  2022-11-18T10:35:08.494+01:00     NaN  \n",
       "193  2022-11-11T18:12:56.474+01:00     NaN  \n",
       "205  2022-11-23T11:20:07.248+01:00     NaN  \n",
       "208  2022-11-24T18:40:07.314+01:00     NaN  \n",
       "335  2024-02-14T08:50:04.933+01:00     NaN  "
      ]
     },
     "execution_count": 13,
     "metadata": {},
     "output_type": "execute_result"
    }
   ],
   "source": [
    "# How many rows have NaN values in the content column?\n",
    "df[df['content'].isna()]"
   ]
  },
  {
   "cell_type": "code",
   "execution_count": null,
   "id": "30fca80b69247eb5",
   "metadata": {
    "ExecuteTime": {
     "end_time": "2024-04-02T09:59:30.524934Z",
     "start_time": "2024-04-02T09:59:30.524831Z"
    },
    "collapsed": false
   },
   "outputs": [],
   "source": []
  }
 ],
 "metadata": {
  "kernelspec": {
   "display_name": "Python 3",
   "language": "python",
   "name": "python3"
  },
  "language_info": {
   "codemirror_mode": {
    "name": "ipython",
    "version": 2
   },
   "file_extension": ".py",
   "mimetype": "text/x-python",
   "name": "python",
   "nbconvert_exporter": "python",
   "pygments_lexer": "ipython2",
   "version": "2.7.6"
  }
 },
 "nbformat": 4,
 "nbformat_minor": 5
}
