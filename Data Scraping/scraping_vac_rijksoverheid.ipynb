{
 "cells": [
  {
   "cell_type": "markdown",
   "id": "d51a5868adb45f97",
   "metadata": {
    "collapsed": false
   },
   "source": [
    "# Scraping Open Data Documents from Rijksoverheid\n",
    "\n",
    "This notebook scrapes and processes Question Answer Pairs (VAC) from the Dutch government's open data portal. Information on how to access these documents is available on the website of [Rijksoverheid the Dutch Government website](https://www.rijksoverheid.nl/opendata/vac-s). The goal is to compile a dataset of these documents, including their metadata and content, into a CSV file."
   ]
  },
  {
   "cell_type": "markdown",
   "id": "cce2195538db8185",
   "metadata": {
    "collapsed": false
   },
   "source": [
    "### Importing libraries"
   ]
  },
  {
   "cell_type": "code",
   "execution_count": 3,
   "id": "11c92264adb72b81",
   "metadata": {
    "ExecuteTime": {
     "end_time": "2024-05-01T11:55:56.250086Z",
     "start_time": "2024-05-01T11:55:56.246911Z"
    },
    "collapsed": false
   },
   "outputs": [],
   "source": [
    "import requests\n",
    "from bs4 import BeautifulSoup\n",
    "import pandas as pd\n",
    "import xml.etree.ElementTree as ET\n",
    "from tqdm import tqdm\n",
    "import os\n",
    "from pathlib import Path"
   ]
  },
  {
   "cell_type": "markdown",
   "id": "82c5e862417e5750",
   "metadata": {
    "collapsed": false
   },
   "source": [
    "### Fetching the list of documents"
   ]
  },
  {
   "cell_type": "code",
   "execution_count": 4,
   "id": "818545cd410a6b67",
   "metadata": {
    "ExecuteTime": {
     "end_time": "2024-05-01T11:55:56.995993Z",
     "start_time": "2024-05-01T11:55:56.992535Z"
    },
    "collapsed": false
   },
   "outputs": [],
   "source": [
    "# create directory\n",
    "Path(\"../Data/VAC_Rijksoverheid\").mkdir(parents=True, exist_ok=True)"
   ]
  },
  {
   "cell_type": "code",
   "execution_count": 5,
   "id": "fb440617e7e0d3a2",
   "metadata": {
    "ExecuteTime": {
     "end_time": "2024-05-01T11:55:57.325984Z",
     "start_time": "2024-05-01T11:55:57.323017Z"
    },
    "collapsed": false
   },
   "outputs": [],
   "source": [
    "# Function to fetch documents\n",
    "def fetch_documents(offset, rows):\n",
    "    \"\"\"\n",
    "    Fetches documents from the Rijksoverheid API based on the specified parameters.\n",
    "    :param subject: the subject of the documents to fetch\n",
    "    :param initial_date: the initial date from which to fetch documents\n",
    "    :param offset: the offset to start fetching documents from\n",
    "    :param rows: the number of rows to fetch\n",
    "    :return: the XML response text if successful, None otherwise\n",
    "    \"\"\"\n",
    "    base_url = \"https://opendata.rijksoverheid.nl/v1/infotypes/faq\"\n",
    "    \n",
    "    params = {\n",
    "        \"offset\": offset,\n",
    "        \"rows\": rows\n",
    "    }\n",
    "    response = requests.get(base_url, params=params)\n",
    "    if response.status_code == 200:\n",
    "        return response.text\n",
    "    else:\n",
    "        return None"
   ]
  },
  {
   "cell_type": "markdown",
   "id": "3984f359709048af",
   "metadata": {
    "collapsed": false
   },
   "source": [
    "### Parsing the XML response"
   ]
  },
  {
   "cell_type": "code",
   "execution_count": 6,
   "id": "3f9662d4b6183813",
   "metadata": {
    "ExecuteTime": {
     "end_time": "2024-05-01T11:55:58.071658Z",
     "start_time": "2024-05-01T11:55:58.067248Z"
    },
    "collapsed": false
   },
   "outputs": [],
   "source": [
    "# Function to parse XML and extract document metadata\n",
    "def parse_xml(xml_data):\n",
    "    \"\"\"\n",
    "    Parses the XML data and extracts the metadata for each document.\n",
    "    :param xml_data: XML data to parse\n",
    "    :return: a list of dictionaries containing the metadata for each document\n",
    "    \"\"\"\n",
    "    documents = []\n",
    "    root = ET.fromstring(xml_data)\n",
    "    for doc in root.findall('document'):\n",
    "        metadata = {\n",
    "            \"id\": doc.find('id').text,\n",
    "            \"type\": doc.find('type').text,\n",
    "            \"question\": doc.find('question').text,\n",
    "            \"canonical\": doc.find('canonical').text,\n",
    "            \"dataurl\": doc.find('dataurl').text,\n",
    "            \"lastmodified\": doc.find('lastmodified').text,\n",
    "        }\n",
    "        documents.append(metadata)\n",
    "    return documents"
   ]
  },
  {
   "cell_type": "markdown",
   "id": "f6571e5fe4899103",
   "metadata": {
    "collapsed": false
   },
   "source": [
    "### Scraping the content"
   ]
  },
  {
   "cell_type": "code",
   "execution_count": 7,
   "id": "89a3f35acf1ec449",
   "metadata": {
    "ExecuteTime": {
     "end_time": "2024-05-01T11:55:58.785689Z",
     "start_time": "2024-05-01T11:55:58.780263Z"
    },
    "collapsed": false
   },
   "outputs": [],
   "source": [
    "# Updated scrape_content function to handle PDF content\n",
    "def scrape_content(url):\n",
    "    \"\"\"\n",
    "    Scrapes the content from the URL. \n",
    "    :param url: the URL to scrape content from\n",
    "    :return: the scraped content if successful, an empty string otherwise\n",
    "    \"\"\"\n",
    "    response = requests.get(url)\n",
    "    text = \"\"\n",
    "    \n",
    "    if response.status_code == 200:\n",
    "        soup = BeautifulSoup(response.text, 'lxml')\n",
    "       \n",
    "        # Locate the specific div with class \"article content\"\n",
    "        article_content = soup.find('div', class_='article content')\n",
    "        if not article_content:\n",
    "            return text\n",
    "\n",
    "        items = []\n",
    "        # Find all specified tags within the located div\n",
    "        for element in article_content.find_all(['p', 'h2', 'h3', 'h4', 'h5', 'h6', 'li']):\n",
    "            text = element.get_text(strip=True)\n",
    "            if element.name == 'p' or element.name == 'li':\n",
    "                items.append(text)\n",
    "            else:\n",
    "                # For header tags, add newline before and after the text for clear separation\n",
    "                items.append(\"\\n\" + text + \". \\n\")\n",
    "\n",
    "        # Join all text items into a single string\n",
    "        text = \" \".join(items).strip()\n",
    "            \n",
    "    return text"
   ]
  },
  {
   "cell_type": "markdown",
   "id": "277b5bafdf09032f",
   "metadata": {
    "collapsed": false
   },
   "source": [
    "### Fetching and processing documents"
   ]
  },
  {
   "cell_type": "code",
   "execution_count": 8,
   "id": "140e4b0c1af91ef7",
   "metadata": {
    "ExecuteTime": {
     "end_time": "2024-05-01T11:55:59.482221Z",
     "start_time": "2024-05-01T11:55:59.476627Z"
    },
    "collapsed": false
   },
   "outputs": [],
   "source": [
    "# Adjusted main function to skip certain document types\n",
    "def fetch_and_save_documents(csv_file_path):\n",
    "    \"\"\"\n",
    "    Fetches and processes Question Answer Pairs from the Rijksoverheid API based on the specified parameters and saves them to a CSV file.\n",
    "    :param csv_file_path: the path to save the CSV file\n",
    "    :return: None\n",
    "    \"\"\"\n",
    "    offset = 1\n",
    "    rows = 200\n",
    "    file_exists = os.path.exists(csv_file_path)\n",
    "    \n",
    "    while True:\n",
    "        xml_data = fetch_documents(offset, rows)\n",
    "        if xml_data:\n",
    "            documents = parse_xml(xml_data)\n",
    "            if not documents:\n",
    "                break\n",
    "            batch_documents = []\n",
    "            for doc in tqdm(documents, desc=f\"Processing documents {offset} to {offset + len(documents) - 1}\"):\n",
    "                doc['answer'] = scrape_content(doc['canonical'])\n",
    "                batch_documents.append(doc)\n",
    "                \n",
    "            # Convert the batch documents to a DataFrame\n",
    "            batch_df = pd.DataFrame(batch_documents)\n",
    "            # Append to the CSV file\n",
    "            if not file_exists:\n",
    "                batch_df.to_csv(csv_file_path, mode='w', header=True, index=False)\n",
    "                file_exists = True # Ensure header is written only once\n",
    "            else:\n",
    "                batch_df.to_csv(csv_file_path, mode='a', header=False, index=False)\n",
    "            \n",
    "            offset += rows\n",
    "        else:\n",
    "            break\n",
    "    print(\"All documents processed and saved to CSV file.\")"
   ]
  },
  {
   "cell_type": "markdown",
   "id": "7894f3391aa2c470",
   "metadata": {
    "collapsed": false
   },
   "source": [
    "### Scrape"
   ]
  },
  {
   "cell_type": "code",
   "execution_count": 9,
   "id": "a7429671f543eb02",
   "metadata": {
    "ExecuteTime": {
     "end_time": "2024-05-01T12:09:00.512448Z",
     "start_time": "2024-05-01T11:56:00.088533Z"
    },
    "collapsed": false
   },
   "outputs": [
    {
     "name": "stderr",
     "output_type": "stream",
     "text": [
      "Processing documents 1 to 200: 100%|██████████| 200/200 [01:06<00:00,  2.99it/s]\n",
      "Processing documents 201 to 400: 100%|██████████| 200/200 [01:03<00:00,  3.17it/s]\n",
      "Processing documents 401 to 600: 100%|██████████| 200/200 [01:04<00:00,  3.08it/s]\n",
      "Processing documents 601 to 800: 100%|██████████| 200/200 [01:05<00:00,  3.07it/s]\n",
      "Processing documents 801 to 1000: 100%|██████████| 200/200 [01:05<00:00,  3.06it/s]\n",
      "Processing documents 1001 to 1200: 100%|██████████| 200/200 [01:07<00:00,  2.98it/s]\n",
      "Processing documents 1201 to 1400: 100%|██████████| 200/200 [01:06<00:00,  3.00it/s]\n",
      "Processing documents 1401 to 1600: 100%|██████████| 200/200 [01:06<00:00,  3.03it/s]\n",
      "Processing documents 1601 to 1800: 100%|██████████| 200/200 [02:18<00:00,  1.45it/s]\n",
      "Processing documents 1801 to 1940: 100%|██████████| 140/140 [00:43<00:00,  3.19it/s]"
     ]
    },
    {
     "name": "stdout",
     "output_type": "stream",
     "text": [
      "All documents processed and saved to CSV file.\n"
     ]
    },
    {
     "name": "stderr",
     "output_type": "stream",
     "text": [
      "\n"
     ]
    }
   ],
   "source": [
    "csv_file_path = '../Data/VAC_Rijksoverheid/VAC.csv'\n",
    "fetch_and_save_documents(csv_file_path)"
   ]
  },
  {
   "cell_type": "code",
   "execution_count": 11,
   "id": "cd2805823c5e2a69",
   "metadata": {
    "ExecuteTime": {
     "end_time": "2024-05-01T12:41:37.575376Z",
     "start_time": "2024-05-01T12:41:37.494478Z"
    },
    "collapsed": false
   },
   "outputs": [
    {
     "data": {
      "text/html": [
       "<div>\n",
       "<style scoped>\n",
       "    .dataframe tbody tr th:only-of-type {\n",
       "        vertical-align: middle;\n",
       "    }\n",
       "\n",
       "    .dataframe tbody tr th {\n",
       "        vertical-align: top;\n",
       "    }\n",
       "\n",
       "    .dataframe thead th {\n",
       "        text-align: right;\n",
       "    }\n",
       "</style>\n",
       "<table border=\"1\" class=\"dataframe\">\n",
       "  <thead>\n",
       "    <tr style=\"text-align: right;\">\n",
       "      <th></th>\n",
       "      <th>id</th>\n",
       "      <th>type</th>\n",
       "      <th>question</th>\n",
       "      <th>canonical</th>\n",
       "      <th>dataurl</th>\n",
       "      <th>lastmodified</th>\n",
       "      <th>answer</th>\n",
       "    </tr>\n",
       "  </thead>\n",
       "  <tbody>\n",
       "    <tr>\n",
       "      <th>0</th>\n",
       "      <td>a59a7ef3-8c7c-4d38-9a6a-142a9fca6eec</td>\n",
       "      <td>vraag en antwoord</td>\n",
       "      <td>Wat is een belastingverdrag?</td>\n",
       "      <td>https://www.rijksoverheid.nl/onderwerpen/belas...</td>\n",
       "      <td>https://opendata.rijksoverheid.nl/v1/infotypes...</td>\n",
       "      <td>2020-06-22T13:12:15.045Z</td>\n",
       "      <td>Een belastingverdrag is een overeenkomst tusse...</td>\n",
       "    </tr>\n",
       "    <tr>\n",
       "      <th>1</th>\n",
       "      <td>193accef-6ff6-4a05-a89c-b6ff37389745</td>\n",
       "      <td>vraag en antwoord</td>\n",
       "      <td>Is mijn beschadigde paspoort of identiteitskaa...</td>\n",
       "      <td>https://www.rijksoverheid.nl/onderwerpen/paspo...</td>\n",
       "      <td>https://opendata.rijksoverheid.nl/v1/infotypes...</td>\n",
       "      <td>2018-01-03T10:05:53.606Z</td>\n",
       "      <td>Zijn de echtheidskenmerken van uw paspoort of ...</td>\n",
       "    </tr>\n",
       "    <tr>\n",
       "      <th>2</th>\n",
       "      <td>913baae5-4e13-4270-bab2-d8035a15f032</td>\n",
       "      <td>vraag en antwoord</td>\n",
       "      <td>Moet een bank een kopie van mijn paspoort make...</td>\n",
       "      <td>https://www.rijksoverheid.nl/onderwerpen/besch...</td>\n",
       "      <td>https://opendata.rijksoverheid.nl/v1/infotypes...</td>\n",
       "      <td>2024-03-13T11:08:44.977Z</td>\n",
       "      <td>Banken en financiële dienstverleners zijn niet...</td>\n",
       "    </tr>\n",
       "    <tr>\n",
       "      <th>3</th>\n",
       "      <td>1c255df3-9d57-4d26-a4d9-7637b54d47e6</td>\n",
       "      <td>vraag en antwoord</td>\n",
       "      <td>Waarom is de euro ingevoerd?</td>\n",
       "      <td>https://www.rijksoverheid.nl/onderwerpen/geldz...</td>\n",
       "      <td>https://opendata.rijksoverheid.nl/v1/infotypes...</td>\n",
       "      <td>2023-04-19T16:22:10.960Z</td>\n",
       "      <td>Er zijn een aantal redenen voor de invoering v...</td>\n",
       "    </tr>\n",
       "    <tr>\n",
       "      <th>4</th>\n",
       "      <td>54ef2e05-af48-405f-9f4d-ba207bf0d856</td>\n",
       "      <td>vraag en antwoord</td>\n",
       "      <td>Krijg ik een voorlopige aanslag van de Belasti...</td>\n",
       "      <td>https://www.rijksoverheid.nl/onderwerpen/inkom...</td>\n",
       "      <td>https://opendata.rijksoverheid.nl/v1/infotypes...</td>\n",
       "      <td>2023-04-24T07:39:46.034Z</td>\n",
       "      <td>Een voorlopige aanslag vraagt u zelf aan bij d...</td>\n",
       "    </tr>\n",
       "  </tbody>\n",
       "</table>\n",
       "</div>"
      ],
      "text/plain": [
       "                                     id               type  \\\n",
       "0  a59a7ef3-8c7c-4d38-9a6a-142a9fca6eec  vraag en antwoord   \n",
       "1  193accef-6ff6-4a05-a89c-b6ff37389745  vraag en antwoord   \n",
       "2  913baae5-4e13-4270-bab2-d8035a15f032  vraag en antwoord   \n",
       "3  1c255df3-9d57-4d26-a4d9-7637b54d47e6  vraag en antwoord   \n",
       "4  54ef2e05-af48-405f-9f4d-ba207bf0d856  vraag en antwoord   \n",
       "\n",
       "                                            question  \\\n",
       "0                       Wat is een belastingverdrag?   \n",
       "1  Is mijn beschadigde paspoort of identiteitskaa...   \n",
       "2  Moet een bank een kopie van mijn paspoort make...   \n",
       "3                       Waarom is de euro ingevoerd?   \n",
       "4  Krijg ik een voorlopige aanslag van de Belasti...   \n",
       "\n",
       "                                           canonical  \\\n",
       "0  https://www.rijksoverheid.nl/onderwerpen/belas...   \n",
       "1  https://www.rijksoverheid.nl/onderwerpen/paspo...   \n",
       "2  https://www.rijksoverheid.nl/onderwerpen/besch...   \n",
       "3  https://www.rijksoverheid.nl/onderwerpen/geldz...   \n",
       "4  https://www.rijksoverheid.nl/onderwerpen/inkom...   \n",
       "\n",
       "                                             dataurl  \\\n",
       "0  https://opendata.rijksoverheid.nl/v1/infotypes...   \n",
       "1  https://opendata.rijksoverheid.nl/v1/infotypes...   \n",
       "2  https://opendata.rijksoverheid.nl/v1/infotypes...   \n",
       "3  https://opendata.rijksoverheid.nl/v1/infotypes...   \n",
       "4  https://opendata.rijksoverheid.nl/v1/infotypes...   \n",
       "\n",
       "               lastmodified                                             answer  \n",
       "0  2020-06-22T13:12:15.045Z  Een belastingverdrag is een overeenkomst tusse...  \n",
       "1  2018-01-03T10:05:53.606Z  Zijn de echtheidskenmerken van uw paspoort of ...  \n",
       "2  2024-03-13T11:08:44.977Z  Banken en financiële dienstverleners zijn niet...  \n",
       "3  2023-04-19T16:22:10.960Z  Er zijn een aantal redenen voor de invoering v...  \n",
       "4  2023-04-24T07:39:46.034Z  Een voorlopige aanslag vraagt u zelf aan bij d...  "
      ]
     },
     "execution_count": 11,
     "metadata": {},
     "output_type": "execute_result"
    }
   ],
   "source": [
    "# check the first few rows of the dataset\n",
    "df = pd.read_csv('../Data/VAC_Rijksoverheid/VAC.csv')\n",
    "df.head()"
   ]
  },
  {
   "cell_type": "code",
   "execution_count": 12,
   "id": "7bdf2bb50d3aadd",
   "metadata": {
    "ExecuteTime": {
     "end_time": "2024-05-01T12:41:44.852198Z",
     "start_time": "2024-05-01T12:41:44.841928Z"
    },
    "collapsed": false
   },
   "outputs": [
    {
     "name": "stdout",
     "output_type": "stream",
     "text": [
      "<class 'pandas.core.frame.DataFrame'>\n",
      "RangeIndex: 1940 entries, 0 to 1939\n",
      "Data columns (total 7 columns):\n",
      " #   Column        Non-Null Count  Dtype \n",
      "---  ------        --------------  ----- \n",
      " 0   id            1940 non-null   object\n",
      " 1   type          1940 non-null   object\n",
      " 2   question      1940 non-null   object\n",
      " 3   canonical     1940 non-null   object\n",
      " 4   dataurl       1940 non-null   object\n",
      " 5   lastmodified  1940 non-null   object\n",
      " 6   answer        1940 non-null   object\n",
      "dtypes: object(7)\n",
      "memory usage: 106.2+ KB\n"
     ]
    }
   ],
   "source": [
    "df.info()"
   ]
  },
  {
   "cell_type": "code",
   "execution_count": 14,
   "id": "dc6c24f91dc255a3",
   "metadata": {
    "ExecuteTime": {
     "end_time": "2024-05-01T12:41:55.341876Z",
     "start_time": "2024-05-01T12:41:55.336233Z"
    },
    "collapsed": false
   },
   "outputs": [
    {
     "data": {
      "text/html": [
       "<div>\n",
       "<style scoped>\n",
       "    .dataframe tbody tr th:only-of-type {\n",
       "        vertical-align: middle;\n",
       "    }\n",
       "\n",
       "    .dataframe tbody tr th {\n",
       "        vertical-align: top;\n",
       "    }\n",
       "\n",
       "    .dataframe thead th {\n",
       "        text-align: right;\n",
       "    }\n",
       "</style>\n",
       "<table border=\"1\" class=\"dataframe\">\n",
       "  <thead>\n",
       "    <tr style=\"text-align: right;\">\n",
       "      <th></th>\n",
       "      <th>id</th>\n",
       "      <th>type</th>\n",
       "      <th>question</th>\n",
       "      <th>canonical</th>\n",
       "      <th>dataurl</th>\n",
       "      <th>lastmodified</th>\n",
       "      <th>answer</th>\n",
       "    </tr>\n",
       "  </thead>\n",
       "  <tbody>\n",
       "  </tbody>\n",
       "</table>\n",
       "</div>"
      ],
      "text/plain": [
       "Empty DataFrame\n",
       "Columns: [id, type, question, canonical, dataurl, lastmodified, answer]\n",
       "Index: []"
      ]
     },
     "execution_count": 14,
     "metadata": {},
     "output_type": "execute_result"
    }
   ],
   "source": [
    "# How many rows have NaN values in the answer column?\n",
    "df[df['answer'].isna()]"
   ]
  },
  {
   "cell_type": "markdown",
   "id": "510eb1a28cf4067f",
   "metadata": {
    "collapsed": false
   },
   "source": [
    "## Save train_chat.csv for model fine-tuning purposes"
   ]
  },
  {
   "cell_type": "code",
   "execution_count": 51,
   "id": "30fca80b69247eb5",
   "metadata": {
    "ExecuteTime": {
     "end_time": "2024-05-01T13:39:15.825997Z",
     "start_time": "2024-05-01T13:39:15.810825Z"
    },
    "collapsed": false
   },
   "outputs": [],
   "source": [
    "train_chat = df.copy()\n",
    "# keep only the question and answer columns\n",
    "train_chat = train_chat[['question', 'answer']]\n",
    "# rename question column to instruction input and answer column to output\n",
    "train_chat.rename(columns={'question': 'text', 'answer': 'target'}, inplace=True)"
   ]
  },
  {
   "cell_type": "code",
   "execution_count": 52,
   "id": "b1cc37f30878de54",
   "metadata": {
    "ExecuteTime": {
     "end_time": "2024-05-01T13:39:16.290627Z",
     "start_time": "2024-05-01T13:39:16.286216Z"
    },
    "collapsed": false
   },
   "outputs": [
    {
     "data": {
      "text/html": [
       "<div>\n",
       "<style scoped>\n",
       "    .dataframe tbody tr th:only-of-type {\n",
       "        vertical-align: middle;\n",
       "    }\n",
       "\n",
       "    .dataframe tbody tr th {\n",
       "        vertical-align: top;\n",
       "    }\n",
       "\n",
       "    .dataframe thead th {\n",
       "        text-align: right;\n",
       "    }\n",
       "</style>\n",
       "<table border=\"1\" class=\"dataframe\">\n",
       "  <thead>\n",
       "    <tr style=\"text-align: right;\">\n",
       "      <th></th>\n",
       "      <th>text</th>\n",
       "      <th>target</th>\n",
       "    </tr>\n",
       "  </thead>\n",
       "  <tbody>\n",
       "    <tr>\n",
       "      <th>0</th>\n",
       "      <td>Wat is een belastingverdrag?</td>\n",
       "      <td>Een belastingverdrag is een overeenkomst tusse...</td>\n",
       "    </tr>\n",
       "    <tr>\n",
       "      <th>1</th>\n",
       "      <td>Is mijn beschadigde paspoort of identiteitskaa...</td>\n",
       "      <td>Zijn de echtheidskenmerken van uw paspoort of ...</td>\n",
       "    </tr>\n",
       "    <tr>\n",
       "      <th>2</th>\n",
       "      <td>Moet een bank een kopie van mijn paspoort make...</td>\n",
       "      <td>Banken en financiële dienstverleners zijn niet...</td>\n",
       "    </tr>\n",
       "    <tr>\n",
       "      <th>3</th>\n",
       "      <td>Waarom is de euro ingevoerd?</td>\n",
       "      <td>Er zijn een aantal redenen voor de invoering v...</td>\n",
       "    </tr>\n",
       "    <tr>\n",
       "      <th>4</th>\n",
       "      <td>Krijg ik een voorlopige aanslag van de Belasti...</td>\n",
       "      <td>Een voorlopige aanslag vraagt u zelf aan bij d...</td>\n",
       "    </tr>\n",
       "  </tbody>\n",
       "</table>\n",
       "</div>"
      ],
      "text/plain": [
       "                                                text  \\\n",
       "0                       Wat is een belastingverdrag?   \n",
       "1  Is mijn beschadigde paspoort of identiteitskaa...   \n",
       "2  Moet een bank een kopie van mijn paspoort make...   \n",
       "3                       Waarom is de euro ingevoerd?   \n",
       "4  Krijg ik een voorlopige aanslag van de Belasti...   \n",
       "\n",
       "                                              target  \n",
       "0  Een belastingverdrag is een overeenkomst tusse...  \n",
       "1  Zijn de echtheidskenmerken van uw paspoort of ...  \n",
       "2  Banken en financiële dienstverleners zijn niet...  \n",
       "3  Er zijn een aantal redenen voor de invoering v...  \n",
       "4  Een voorlopige aanslag vraagt u zelf aan bij d...  "
      ]
     },
     "execution_count": 52,
     "metadata": {},
     "output_type": "execute_result"
    }
   ],
   "source": [
    "train_chat.head()"
   ]
  },
  {
   "cell_type": "code",
   "execution_count": 53,
   "id": "187de7cc08c6f2e",
   "metadata": {
    "ExecuteTime": {
     "end_time": "2024-05-01T13:39:21.408152Z",
     "start_time": "2024-05-01T13:39:21.404755Z"
    },
    "collapsed": false
   },
   "outputs": [
    {
     "data": {
      "text/plain": [
       "'Wat is een belastingverdrag?'"
      ]
     },
     "execution_count": 53,
     "metadata": {},
     "output_type": "execute_result"
    }
   ],
   "source": [
    "train_chat['text'][0]"
   ]
  },
  {
   "cell_type": "code",
   "execution_count": 54,
   "id": "4fe643d9f068aa2c",
   "metadata": {
    "ExecuteTime": {
     "end_time": "2024-05-01T13:39:27.529102Z",
     "start_time": "2024-05-01T13:39:27.477714Z"
    },
    "collapsed": false
   },
   "outputs": [],
   "source": [
    "# save to csv\n",
    "train_chat.to_csv('../Model Finetuning/train_chat2.csv', index=False)"
   ]
  },
  {
   "cell_type": "code",
   "execution_count": 55,
   "id": "f7f33f06020c733c",
   "metadata": {
    "ExecuteTime": {
     "end_time": "2024-05-01T15:16:43.721945Z",
     "start_time": "2024-05-01T15:16:43.715172Z"
    },
    "collapsed": false
   },
   "outputs": [
    {
     "data": {
      "text/plain": [
       "1940"
      ]
     },
     "execution_count": 55,
     "metadata": {},
     "output_type": "execute_result"
    }
   ],
   "source": [
    "len(train_chat)"
   ]
  },
  {
   "cell_type": "code",
   "execution_count": 56,
   "id": "807a330839332390",
   "metadata": {
    "ExecuteTime": {
     "end_time": "2024-05-02T07:30:21.794088Z",
     "start_time": "2024-05-02T07:30:21.689015Z"
    },
    "collapsed": false
   },
   "outputs": [
    {
     "data": {
      "text/html": [
       "<div>\n",
       "<style scoped>\n",
       "    .dataframe tbody tr th:only-of-type {\n",
       "        vertical-align: middle;\n",
       "    }\n",
       "\n",
       "    .dataframe tbody tr th {\n",
       "        vertical-align: top;\n",
       "    }\n",
       "\n",
       "    .dataframe thead th {\n",
       "        text-align: right;\n",
       "    }\n",
       "</style>\n",
       "<table border=\"1\" class=\"dataframe\">\n",
       "  <thead>\n",
       "    <tr style=\"text-align: right;\">\n",
       "      <th></th>\n",
       "      <th>instruction</th>\n",
       "      <th>input</th>\n",
       "      <th>output</th>\n",
       "      <th>text</th>\n",
       "    </tr>\n",
       "  </thead>\n",
       "  <tbody>\n",
       "    <tr>\n",
       "      <th>0</th>\n",
       "      <td>Wat is een belastingverdrag?</td>\n",
       "      <td>NaN</td>\n",
       "      <td>Een belastingverdrag is een overeenkomst tusse...</td>\n",
       "      <td>&lt;s&gt;[INST] Wat is een belastingverdrag? [/INST]...</td>\n",
       "    </tr>\n",
       "    <tr>\n",
       "      <th>1</th>\n",
       "      <td>Is mijn beschadigde paspoort of identiteitskaa...</td>\n",
       "      <td>NaN</td>\n",
       "      <td>Zijn de echtheidskenmerken van uw paspoort of ...</td>\n",
       "      <td>&lt;s&gt;[INST] Is mijn beschadigde paspoort of iden...</td>\n",
       "    </tr>\n",
       "    <tr>\n",
       "      <th>2</th>\n",
       "      <td>Moet een bank een kopie van mijn paspoort make...</td>\n",
       "      <td>NaN</td>\n",
       "      <td>Banken en financiële dienstverleners zijn niet...</td>\n",
       "      <td>&lt;s&gt;[INST] Moet een bank een kopie van mijn pas...</td>\n",
       "    </tr>\n",
       "    <tr>\n",
       "      <th>3</th>\n",
       "      <td>Waarom is de euro ingevoerd?</td>\n",
       "      <td>NaN</td>\n",
       "      <td>Er zijn een aantal redenen voor de invoering v...</td>\n",
       "      <td>&lt;s&gt;[INST] Waarom is de euro ingevoerd? [/INST]...</td>\n",
       "    </tr>\n",
       "    <tr>\n",
       "      <th>4</th>\n",
       "      <td>Krijg ik een voorlopige aanslag van de Belasti...</td>\n",
       "      <td>NaN</td>\n",
       "      <td>Een voorlopige aanslag vraagt u zelf aan bij d...</td>\n",
       "      <td>&lt;s&gt;[INST] Krijg ik een voorlopige aanslag van ...</td>\n",
       "    </tr>\n",
       "  </tbody>\n",
       "</table>\n",
       "</div>"
      ],
      "text/plain": [
       "                                         instruction  input  \\\n",
       "0                       Wat is een belastingverdrag?    NaN   \n",
       "1  Is mijn beschadigde paspoort of identiteitskaa...    NaN   \n",
       "2  Moet een bank een kopie van mijn paspoort make...    NaN   \n",
       "3                       Waarom is de euro ingevoerd?    NaN   \n",
       "4  Krijg ik een voorlopige aanslag van de Belasti...    NaN   \n",
       "\n",
       "                                              output  \\\n",
       "0  Een belastingverdrag is een overeenkomst tusse...   \n",
       "1  Zijn de echtheidskenmerken van uw paspoort of ...   \n",
       "2  Banken en financiële dienstverleners zijn niet...   \n",
       "3  Er zijn een aantal redenen voor de invoering v...   \n",
       "4  Een voorlopige aanslag vraagt u zelf aan bij d...   \n",
       "\n",
       "                                                text  \n",
       "0  <s>[INST] Wat is een belastingverdrag? [/INST]...  \n",
       "1  <s>[INST] Is mijn beschadigde paspoort of iden...  \n",
       "2  <s>[INST] Moet een bank een kopie van mijn pas...  \n",
       "3  <s>[INST] Waarom is de euro ingevoerd? [/INST]...  \n",
       "4  <s>[INST] Krijg ik een voorlopige aanslag van ...  "
      ]
     },
     "execution_count": 56,
     "metadata": {},
     "output_type": "execute_result"
    }
   ],
   "source": [
    "train_chat1 = pd.read_csv('../Model Finetuning/train_chat.csv')\n",
    "train_chat1.head()"
   ]
  },
  {
   "cell_type": "code",
   "execution_count": 58,
   "id": "d711e1cfe4d6f1ff",
   "metadata": {
    "ExecuteTime": {
     "end_time": "2024-05-02T07:34:35.619210Z",
     "start_time": "2024-05-02T07:34:35.616741Z"
    },
    "collapsed": false
   },
   "outputs": [
    {
     "data": {
      "text/plain": [
       "\"<s>[INST] Is mijn beschadigde paspoort of identiteitskaart geldig? [/INST] Zijn de echtheidskenmerken van uw paspoort of identiteitsbewijs beschadigd? Of zijn uw gegevens slecht leesbaar? Dan is uw reisdocument ongeldig en moet u een nieuw document aanvragen bij de gemeente. \\nNieuw reisdocument aanvragen bij beschadiging. \\n In de volgende gevallen van beschadiging moet u een nieuw reisdocument aanvragen: Als deechtheidskenmerkenbeschadigd zijn. Dit zijn onder andere het schaduwwatermerk en een voelbaar reliëf. Als uw persoonsgegevens slecht leesbaar zijn geworden. Als er pagina's loszitten of ontbreken. U kunt uw paspoort of identiteitskaart bij uw gemeente inleveren en vervangen door een nieuwe. De kosten voor de aanvraag moet u zelf betalen. \\nVergoeding bij beschadigd reisdocument. \\n Vindt u dat de beschadiging van uw paspoort of identiteitskaart het gevolg is van een productiefout? Neem dan contact op met uw gemeente. U kunt dan achterhalen of u de kosten vergoed krijgt. </s>\""
      ]
     },
     "execution_count": 58,
     "metadata": {},
     "output_type": "execute_result"
    }
   ],
   "source": [
    "train_chat1['text'][1]"
   ]
  },
  {
   "cell_type": "markdown",
   "id": "e1b0b3336b8d5d39",
   "metadata": {
    "collapsed": false
   },
   "source": [
    "## Open train_chat and remove rows with text longer than 1000\n"
   ]
  },
  {
   "cell_type": "code",
   "execution_count": 80,
   "id": "35b25bca74ef3a1",
   "metadata": {
    "ExecuteTime": {
     "end_time": "2024-05-02T10:48:15.610326Z",
     "start_time": "2024-05-02T10:48:15.499642Z"
    },
    "collapsed": false
   },
   "outputs": [],
   "source": [
    "train_chat = pd.read_csv('../Model Finetuning/train_chat.csv')"
   ]
  },
  {
   "cell_type": "code",
   "execution_count": 89,
   "id": "3ff3a93c1bc81e0b",
   "metadata": {
    "ExecuteTime": {
     "end_time": "2024-05-02T10:50:03.100085Z",
     "start_time": "2024-05-02T10:50:03.096628Z"
    },
    "collapsed": false
   },
   "outputs": [
    {
     "name": "stdout",
     "output_type": "stream",
     "text": [
      "Number of rows before removing rows with text longer than 10000: 1940\n"
     ]
    }
   ],
   "source": [
    "print(f\"Number of rows before removing rows with text longer than 10000: {len(train_chat)}\")"
   ]
  },
  {
   "cell_type": "code",
   "execution_count": 90,
   "id": "78fde4095a92bca0",
   "metadata": {
    "ExecuteTime": {
     "end_time": "2024-05-02T10:50:10.747859Z",
     "start_time": "2024-05-02T10:50:10.655722Z"
    },
    "collapsed": false
   },
   "outputs": [
    {
     "data": {
      "text/plain": [
       "<Axes: >"
      ]
     },
     "execution_count": 90,
     "metadata": {},
     "output_type": "execute_result"
    },
    {
     "data": {
      "image/png": "[encoded data removed]",
      "text/plain": [
       "<Figure size 640x480 with 1 Axes>"
      ]
     },
     "metadata": {},
     "output_type": "display_data"
    }
   ],
   "source": [
    "# distribution of text length\n",
    "train_chat['text'].str.len().hist()"
   ]
  },
  {
   "cell_type": "code",
   "execution_count": 98,
   "id": "2429cf1040b1de8b",
   "metadata": {
    "ExecuteTime": {
     "end_time": "2024-05-02T10:51:12.387306Z",
     "start_time": "2024-05-02T10:51:12.375460Z"
    },
    "collapsed": false
   },
   "outputs": [
    {
     "data": {
      "text/html": [
       "<div>\n",
       "<style scoped>\n",
       "    .dataframe tbody tr th:only-of-type {\n",
       "        vertical-align: middle;\n",
       "    }\n",
       "\n",
       "    .dataframe tbody tr th {\n",
       "        vertical-align: top;\n",
       "    }\n",
       "\n",
       "    .dataframe thead th {\n",
       "        text-align: right;\n",
       "    }\n",
       "</style>\n",
       "<table border=\"1\" class=\"dataframe\">\n",
       "  <thead>\n",
       "    <tr style=\"text-align: right;\">\n",
       "      <th></th>\n",
       "      <th>instruction</th>\n",
       "      <th>input</th>\n",
       "      <th>output</th>\n",
       "      <th>text</th>\n",
       "    </tr>\n",
       "  </thead>\n",
       "  <tbody>\n",
       "    <tr>\n",
       "      <th>39</th>\n",
       "      <td>Hoe schrijf ik een wilsverklaring?</td>\n",
       "      <td>NaN</td>\n",
       "      <td>In een wilsverklaring zet u op papier welke me...</td>\n",
       "      <td>&lt;s&gt;[INST] Hoe schrijf ik een wilsverklaring? [...</td>\n",
       "    </tr>\n",
       "    <tr>\n",
       "      <th>75</th>\n",
       "      <td>Hoe kan ik mij als zelfstandig ondernemer verz...</td>\n",
       "      <td>NaN</td>\n",
       "      <td>Als ondernemer kunt u zelf bepalen hoe u zich ...</td>\n",
       "      <td>&lt;s&gt;[INST] Hoe kan ik mij als zelfstandig onder...</td>\n",
       "    </tr>\n",
       "    <tr>\n",
       "      <th>81</th>\n",
       "      <td>Wat betekent de Dienstenrichtlijn voor overheden?</td>\n",
       "      <td>NaN</td>\n",
       "      <td>Ondernemers moeten zich in Nederland vrij kunn...</td>\n",
       "      <td>&lt;s&gt;[INST] Wat betekent de Dienstenrichtlijn vo...</td>\n",
       "    </tr>\n",
       "    <tr>\n",
       "      <th>189</th>\n",
       "      <td>Hoe kan ik als zij-instromer mijn bevoegdheid ...</td>\n",
       "      <td>NaN</td>\n",
       "      <td>Met de juiste vooropleiding en ervaring kunt u...</td>\n",
       "      <td>&lt;s&gt;[INST] Hoe kan ik als zij-instromer mijn be...</td>\n",
       "    </tr>\n",
       "    <tr>\n",
       "      <th>540</th>\n",
       "      <td>Voor welke technische studies heb ik een onthe...</td>\n",
       "      <td>NaN</td>\n",
       "      <td>De VN en de EU verplichten landen om te voorko...</td>\n",
       "      <td>&lt;s&gt;[INST] Voor welke technische studies heb ik...</td>\n",
       "    </tr>\n",
       "    <tr>\n",
       "      <th>569</th>\n",
       "      <td>Wanneer gaat mijn tijdelijke contract over in ...</td>\n",
       "      <td>NaN</td>\n",
       "      <td>Sinds 1 januari 2020 gaat een tijdelijk contra...</td>\n",
       "      <td>&lt;s&gt;[INST] Wanneer gaat mijn tijdelijke contrac...</td>\n",
       "    </tr>\n",
       "    <tr>\n",
       "      <th>581</th>\n",
       "      <td>Welke contracten zijn er voor oproepkrachten?</td>\n",
       "      <td>NaN</td>\n",
       "      <td>Er zijn 3 soorten oproepcontracten: een oproep...</td>\n",
       "      <td>&lt;s&gt;[INST] Welke contracten zijn er voor oproep...</td>\n",
       "    </tr>\n",
       "    <tr>\n",
       "      <th>685</th>\n",
       "      <td>Hoe regelen basisscholen de schooltijden en le...</td>\n",
       "      <td>NaN</td>\n",
       "      <td>De basisschool bepaalt zelf de indeling van de...</td>\n",
       "      <td>&lt;s&gt;[INST] Hoe regelen basisscholen de schoolti...</td>\n",
       "    </tr>\n",
       "    <tr>\n",
       "      <th>761</th>\n",
       "      <td>Hoe hoog is de transitievergoeding als ik word...</td>\n",
       "      <td>NaN</td>\n",
       "      <td>De hoogte van de transitievergoeding die uw we...</td>\n",
       "      <td>&lt;s&gt;[INST] Hoe hoog is de transitievergoeding a...</td>\n",
       "    </tr>\n",
       "    <tr>\n",
       "      <th>916</th>\n",
       "      <td>Welke achternaam kan ik voor mijn kind kiezen?</td>\n",
       "      <td>NaN</td>\n",
       "      <td>U kunt voor uw kind de achternaam van de moede...</td>\n",
       "      <td>&lt;s&gt;[INST] Welke achternaam kan ik voor mijn ki...</td>\n",
       "    </tr>\n",
       "    <tr>\n",
       "      <th>984</th>\n",
       "      <td>Welke voorbehouden handelingen mag een zorgver...</td>\n",
       "      <td>NaN</td>\n",
       "      <td>Of u een voorbehouden handeling mag uitvoeren,...</td>\n",
       "      <td>&lt;s&gt;[INST] Welke voorbehouden handelingen mag e...</td>\n",
       "    </tr>\n",
       "    <tr>\n",
       "      <th>986</th>\n",
       "      <td>Hoe zijn de slachtoffers van vlucht MH17 herda...</td>\n",
       "      <td>NaN</td>\n",
       "      <td>De slachtoffers van vlucht MH17 zijn op versch...</td>\n",
       "      <td>&lt;s&gt;[INST] Hoe zijn de slachtoffers van vlucht ...</td>\n",
       "    </tr>\n",
       "    <tr>\n",
       "      <th>1021</th>\n",
       "      <td>Welke landen staan op de lijst van veilige lan...</td>\n",
       "      <td>NaN</td>\n",
       "      <td>Asielzoekers uit veilige landen komen ook naar...</td>\n",
       "      <td>&lt;s&gt;[INST] Welke landen staan op de lijst van v...</td>\n",
       "    </tr>\n",
       "    <tr>\n",
       "      <th>1030</th>\n",
       "      <td>Waar moet ik aan denken als ik wil overstappen...</td>\n",
       "      <td>NaN</td>\n",
       "      <td>In november krijgt u van uw zorgverzekeraar uw...</td>\n",
       "      <td>&lt;s&gt;[INST] Waar moet ik aan denken als ik wil o...</td>\n",
       "    </tr>\n",
       "    <tr>\n",
       "      <th>1121</th>\n",
       "      <td>Hoe controleer ik of een online aanbieder van ...</td>\n",
       "      <td>NaN</td>\n",
       "      <td>Bestel alleen medicijn via internet op betrouw...</td>\n",
       "      <td>&lt;s&gt;[INST] Hoe controleer ik of een online aanb...</td>\n",
       "    </tr>\n",
       "    <tr>\n",
       "      <th>1160</th>\n",
       "      <td>Welke risico's loop ik als ik rook of meerook?</td>\n",
       "      <td>NaN</td>\n",
       "      <td>Er zitten gezondheidsrisico's aan roken. Zo he...</td>\n",
       "      <td>&lt;s&gt;[INST] Welke risico's loop ik als ik rook o...</td>\n",
       "    </tr>\n",
       "    <tr>\n",
       "      <th>1187</th>\n",
       "      <td>Hoe word ik leraar in het voortgezet onderwijs?</td>\n",
       "      <td>NaN</td>\n",
       "      <td>Om les te geven in het voortgezet onderwijs mo...</td>\n",
       "      <td>&lt;s&gt;[INST] Hoe word ik leraar in het voortgezet...</td>\n",
       "    </tr>\n",
       "    <tr>\n",
       "      <th>1241</th>\n",
       "      <td>Welke misverstanden zijn er rond de zorgverzek...</td>\n",
       "      <td>NaN</td>\n",
       "      <td>Krijgt u wel of niet een bepaalde behandeling ...</td>\n",
       "      <td>&lt;s&gt;[INST] Welke misverstanden zijn er rond de ...</td>\n",
       "    </tr>\n",
       "    <tr>\n",
       "      <th>1257</th>\n",
       "      <td>Hoe neem ik contact op met de Doorstroompunt-r...</td>\n",
       "      <td>NaN</td>\n",
       "      <td>Op deze pagina vindt u de contactgegevens van ...</td>\n",
       "      <td>&lt;s&gt;[INST] Hoe neem ik contact op met de Doorst...</td>\n",
       "    </tr>\n",
       "    <tr>\n",
       "      <th>1283</th>\n",
       "      <td>Wie krijgen mijn gegevens uit de Basisregistra...</td>\n",
       "      <td>NaN</td>\n",
       "      <td>Verschillende soorten organisaties kunnen uw p...</td>\n",
       "      <td>&lt;s&gt;[INST] Wie krijgen mijn gegevens uit de Bas...</td>\n",
       "    </tr>\n",
       "    <tr>\n",
       "      <th>1299</th>\n",
       "      <td>Stappenplan: wat moet ik doen bij asbest?</td>\n",
       "      <td>NaN</td>\n",
       "      <td>Asbestmateriaal hoeft niet gevaarlijk te zijn,...</td>\n",
       "      <td>&lt;s&gt;[INST] Stappenplan: wat moet ik doen bij as...</td>\n",
       "    </tr>\n",
       "    <tr>\n",
       "      <th>1362</th>\n",
       "      <td>Vragen en antwoorden over het ingrijpen op Sin...</td>\n",
       "      <td>NaN</td>\n",
       "      <td>Waarom is deze ingreep noodzakelijk?. \\n Het b...</td>\n",
       "      <td>&lt;s&gt;[INST] Vragen en antwoorden over het ingrij...</td>\n",
       "    </tr>\n",
       "    <tr>\n",
       "      <th>1429</th>\n",
       "      <td>Welke gegevens moeten fabrikanten, gemachtigde...</td>\n",
       "      <td>NaN</td>\n",
       "      <td>Fabrikanten, gemachtigden, importeurs en samen...</td>\n",
       "      <td>&lt;s&gt;[INST] Welke gegevens moeten fabrikanten, g...</td>\n",
       "    </tr>\n",
       "    <tr>\n",
       "      <th>1456</th>\n",
       "      <td>Wat is er bij verkiezingen geregeld voor kieze...</td>\n",
       "      <td>NaN</td>\n",
       "      <td>Iedereen moet gebruik kunnen maken van het kie...</td>\n",
       "      <td>&lt;s&gt;[INST] Wat is er bij verkiezingen geregeld ...</td>\n",
       "    </tr>\n",
       "    <tr>\n",
       "      <th>1764</th>\n",
       "      <td>Waar vind ik hulp voor mijn kind van 4-18 jaar?</td>\n",
       "      <td>NaN</td>\n",
       "      <td>Bij kinderen en jongeren kunnen problemen zijn...</td>\n",
       "      <td>&lt;s&gt;[INST] Waar vind ik hulp voor mijn kind van...</td>\n",
       "    </tr>\n",
       "    <tr>\n",
       "      <th>1866</th>\n",
       "      <td>Welke onderwijsvoorzieningen zijn er voor leer...</td>\n",
       "      <td>NaN</td>\n",
       "      <td>Onderwijs aan vluchtelingen uit Oekraïne kent ...</td>\n",
       "      <td>&lt;s&gt;[INST] Welke onderwijsvoorzieningen zijn er...</td>\n",
       "    </tr>\n",
       "    <tr>\n",
       "      <th>1903</th>\n",
       "      <td>Welke schooladviezen kan mijn kind krijgen in ...</td>\n",
       "      <td>NaN</td>\n",
       "      <td>In groep 8 van de basisschool krijgt uw kind e...</td>\n",
       "      <td>&lt;s&gt;[INST] Welke schooladviezen kan mijn kind k...</td>\n",
       "    </tr>\n",
       "    <tr>\n",
       "      <th>1907</th>\n",
       "      <td>Veelgestelde vragen over gesprekken op school ...</td>\n",
       "      <td>NaN</td>\n",
       "      <td>In gesprek gaan over de situatie in Israël/ Pa...</td>\n",
       "      <td>&lt;s&gt;[INST] Veelgestelde vragen over gesprekken ...</td>\n",
       "    </tr>\n",
       "    <tr>\n",
       "      <th>1936</th>\n",
       "      <td>Vragen en antwoorden over de Nutri-Score</td>\n",
       "      <td>NaN</td>\n",
       "      <td>De Nutri-Score laat zien of een product een be...</td>\n",
       "      <td>&lt;s&gt;[INST] Vragen en antwoorden over de Nutri-S...</td>\n",
       "    </tr>\n",
       "  </tbody>\n",
       "</table>\n",
       "</div>"
      ],
      "text/plain": [
       "                                            instruction  input  \\\n",
       "39                   Hoe schrijf ik een wilsverklaring?    NaN   \n",
       "75    Hoe kan ik mij als zelfstandig ondernemer verz...    NaN   \n",
       "81    Wat betekent de Dienstenrichtlijn voor overheden?    NaN   \n",
       "189   Hoe kan ik als zij-instromer mijn bevoegdheid ...    NaN   \n",
       "540   Voor welke technische studies heb ik een onthe...    NaN   \n",
       "569   Wanneer gaat mijn tijdelijke contract over in ...    NaN   \n",
       "581       Welke contracten zijn er voor oproepkrachten?    NaN   \n",
       "685   Hoe regelen basisscholen de schooltijden en le...    NaN   \n",
       "761   Hoe hoog is de transitievergoeding als ik word...    NaN   \n",
       "916      Welke achternaam kan ik voor mijn kind kiezen?    NaN   \n",
       "984   Welke voorbehouden handelingen mag een zorgver...    NaN   \n",
       "986   Hoe zijn de slachtoffers van vlucht MH17 herda...    NaN   \n",
       "1021  Welke landen staan op de lijst van veilige lan...    NaN   \n",
       "1030  Waar moet ik aan denken als ik wil overstappen...    NaN   \n",
       "1121  Hoe controleer ik of een online aanbieder van ...    NaN   \n",
       "1160     Welke risico's loop ik als ik rook of meerook?    NaN   \n",
       "1187    Hoe word ik leraar in het voortgezet onderwijs?    NaN   \n",
       "1241  Welke misverstanden zijn er rond de zorgverzek...    NaN   \n",
       "1257  Hoe neem ik contact op met de Doorstroompunt-r...    NaN   \n",
       "1283  Wie krijgen mijn gegevens uit de Basisregistra...    NaN   \n",
       "1299          Stappenplan: wat moet ik doen bij asbest?    NaN   \n",
       "1362  Vragen en antwoorden over het ingrijpen op Sin...    NaN   \n",
       "1429  Welke gegevens moeten fabrikanten, gemachtigde...    NaN   \n",
       "1456  Wat is er bij verkiezingen geregeld voor kieze...    NaN   \n",
       "1764    Waar vind ik hulp voor mijn kind van 4-18 jaar?    NaN   \n",
       "1866  Welke onderwijsvoorzieningen zijn er voor leer...    NaN   \n",
       "1903  Welke schooladviezen kan mijn kind krijgen in ...    NaN   \n",
       "1907  Veelgestelde vragen over gesprekken op school ...    NaN   \n",
       "1936           Vragen en antwoorden over de Nutri-Score    NaN   \n",
       "\n",
       "                                                 output  \\\n",
       "39    In een wilsverklaring zet u op papier welke me...   \n",
       "75    Als ondernemer kunt u zelf bepalen hoe u zich ...   \n",
       "81    Ondernemers moeten zich in Nederland vrij kunn...   \n",
       "189   Met de juiste vooropleiding en ervaring kunt u...   \n",
       "540   De VN en de EU verplichten landen om te voorko...   \n",
       "569   Sinds 1 januari 2020 gaat een tijdelijk contra...   \n",
       "581   Er zijn 3 soorten oproepcontracten: een oproep...   \n",
       "685   De basisschool bepaalt zelf de indeling van de...   \n",
       "761   De hoogte van de transitievergoeding die uw we...   \n",
       "916   U kunt voor uw kind de achternaam van de moede...   \n",
       "984   Of u een voorbehouden handeling mag uitvoeren,...   \n",
       "986   De slachtoffers van vlucht MH17 zijn op versch...   \n",
       "1021  Asielzoekers uit veilige landen komen ook naar...   \n",
       "1030  In november krijgt u van uw zorgverzekeraar uw...   \n",
       "1121  Bestel alleen medicijn via internet op betrouw...   \n",
       "1160  Er zitten gezondheidsrisico's aan roken. Zo he...   \n",
       "1187  Om les te geven in het voortgezet onderwijs mo...   \n",
       "1241  Krijgt u wel of niet een bepaalde behandeling ...   \n",
       "1257  Op deze pagina vindt u de contactgegevens van ...   \n",
       "1283  Verschillende soorten organisaties kunnen uw p...   \n",
       "1299  Asbestmateriaal hoeft niet gevaarlijk te zijn,...   \n",
       "1362  Waarom is deze ingreep noodzakelijk?. \\n Het b...   \n",
       "1429  Fabrikanten, gemachtigden, importeurs en samen...   \n",
       "1456  Iedereen moet gebruik kunnen maken van het kie...   \n",
       "1764  Bij kinderen en jongeren kunnen problemen zijn...   \n",
       "1866  Onderwijs aan vluchtelingen uit Oekraïne kent ...   \n",
       "1903  In groep 8 van de basisschool krijgt uw kind e...   \n",
       "1907  In gesprek gaan over de situatie in Israël/ Pa...   \n",
       "1936  De Nutri-Score laat zien of een product een be...   \n",
       "\n",
       "                                                   text  \n",
       "39    <s>[INST] Hoe schrijf ik een wilsverklaring? [...  \n",
       "75    <s>[INST] Hoe kan ik mij als zelfstandig onder...  \n",
       "81    <s>[INST] Wat betekent de Dienstenrichtlijn vo...  \n",
       "189   <s>[INST] Hoe kan ik als zij-instromer mijn be...  \n",
       "540   <s>[INST] Voor welke technische studies heb ik...  \n",
       "569   <s>[INST] Wanneer gaat mijn tijdelijke contrac...  \n",
       "581   <s>[INST] Welke contracten zijn er voor oproep...  \n",
       "685   <s>[INST] Hoe regelen basisscholen de schoolti...  \n",
       "761   <s>[INST] Hoe hoog is de transitievergoeding a...  \n",
       "916   <s>[INST] Welke achternaam kan ik voor mijn ki...  \n",
       "984   <s>[INST] Welke voorbehouden handelingen mag e...  \n",
       "986   <s>[INST] Hoe zijn de slachtoffers van vlucht ...  \n",
       "1021  <s>[INST] Welke landen staan op de lijst van v...  \n",
       "1030  <s>[INST] Waar moet ik aan denken als ik wil o...  \n",
       "1121  <s>[INST] Hoe controleer ik of een online aanb...  \n",
       "1160  <s>[INST] Welke risico's loop ik als ik rook o...  \n",
       "1187  <s>[INST] Hoe word ik leraar in het voortgezet...  \n",
       "1241  <s>[INST] Welke misverstanden zijn er rond de ...  \n",
       "1257  <s>[INST] Hoe neem ik contact op met de Doorst...  \n",
       "1283  <s>[INST] Wie krijgen mijn gegevens uit de Bas...  \n",
       "1299  <s>[INST] Stappenplan: wat moet ik doen bij as...  \n",
       "1362  <s>[INST] Vragen en antwoorden over het ingrij...  \n",
       "1429  <s>[INST] Welke gegevens moeten fabrikanten, g...  \n",
       "1456  <s>[INST] Wat is er bij verkiezingen geregeld ...  \n",
       "1764  <s>[INST] Waar vind ik hulp voor mijn kind van...  \n",
       "1866  <s>[INST] Welke onderwijsvoorzieningen zijn er...  \n",
       "1903  <s>[INST] Welke schooladviezen kan mijn kind k...  \n",
       "1907  <s>[INST] Veelgestelde vragen over gesprekken ...  \n",
       "1936  <s>[INST] Vragen en antwoorden over de Nutri-S...  "
      ]
     },
     "execution_count": 98,
     "metadata": {},
     "output_type": "execute_result"
    }
   ],
   "source": [
    "# select rows with text length less than or equal to 10000\n",
    "large_text = train_chat[train_chat['text'].str.len() >= 8000]\n",
    "large_text"
   ]
  },
  {
   "cell_type": "code",
   "execution_count": 99,
   "id": "7002cf098627de40",
   "metadata": {
    "ExecuteTime": {
     "end_time": "2024-05-02T10:51:19.662144Z",
     "start_time": "2024-05-02T10:51:19.656886Z"
    },
    "collapsed": false
   },
   "outputs": [],
   "source": [
    "train_chat = train_chat[train_chat['text'].str.len() <= 8000]"
   ]
  },
  {
   "cell_type": "code",
   "execution_count": 100,
   "id": "fbfb098a5f72bac1",
   "metadata": {
    "ExecuteTime": {
     "end_time": "2024-05-02T10:51:20.136370Z",
     "start_time": "2024-05-02T10:51:20.134346Z"
    },
    "collapsed": false
   },
   "outputs": [
    {
     "name": "stdout",
     "output_type": "stream",
     "text": [
      "Number of rows after removing rows with text longer than 1000: 1911\n"
     ]
    }
   ],
   "source": [
    "print(f\"Number of rows after removing rows with text longer than 1000: {len(train_chat)}\")"
   ]
  },
  {
   "cell_type": "code",
   "execution_count": 101,
   "id": "f88bf712acda4f0d",
   "metadata": {
    "ExecuteTime": {
     "end_time": "2024-05-02T10:51:59.347067Z",
     "start_time": "2024-05-02T10:51:59.234467Z"
    },
    "collapsed": false
   },
   "outputs": [],
   "source": [
    "# save to csv\n",
    "train_chat.to_csv('../Model Finetuning/train_chat_no_large_text.csv', index=False)"
   ]
  },
  {
   "cell_type": "code",
   "execution_count": null,
   "id": "43911e07451b6729",
   "metadata": {
    "collapsed": false
   },
   "outputs": [],
   "source": []
  }
 ],
 "metadata": {
  "kernelspec": {
   "display_name": "Python 3",
   "language": "python",
   "name": "python3"
  },
  "language_info": {
   "codemirror_mode": {
    "name": "ipython",
    "version": 2
   },
   "file_extension": ".py",
   "mimetype": "text/x-python",
   "name": "python",
   "nbconvert_exporter": "python",
   "pygments_lexer": "ipython2",
   "version": "2.7.6"
  }
 },
 "nbformat": 4,
 "nbformat_minor": 5
}
