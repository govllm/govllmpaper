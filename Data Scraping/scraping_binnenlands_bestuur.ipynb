{
 "cells": [
  {
   "cell_type": "markdown",
   "id": "7290f1d80b22dedc",
   "metadata": {
    "collapsed": false
   },
   "source": [
    "# Scraping Binnenlands Bestuur articles\n",
    "\n",
    "No sitemap is yet available for [Binnenlands Bestuur](https://www.binnenlandsbestuur.nl/). Therefore, the following code is a template for scraping articles from a website that does have a sitemap. The code from scraping_ibestuur.ipynb can be used for Binnenlands Bestuur once a sitemap is available."
   ]
  },
  {
   "cell_type": "markdown",
   "id": "2a4242678a68f511",
   "metadata": {
    "collapsed": false
   },
   "source": [
    "#### Importing libraries"
   ]
  },
  {
   "cell_type": "code",
   "execution_count": 1,
   "id": "d099b23dd7966d01",
   "metadata": {
    "ExecuteTime": {
     "end_time": "2024-04-02T09:43:43.915643Z",
     "start_time": "2024-04-02T09:43:43.249889Z"
    },
    "collapsed": false
   },
   "outputs": [],
   "source": [
    "import csv\n",
    "\n",
    "from bs4 import BeautifulSoup\n",
    "import requests\n",
    "from requests.exceptions import ChunkedEncodingError\n",
    "import pandas as pd\n",
    "import time\n",
    "import os\n",
    "from tqdm import tqdm\n",
    "from pathlib import Path"
   ]
  },
  {
   "cell_type": "markdown",
   "id": "a3c86d591aa2a895",
   "metadata": {
    "collapsed": false
   },
   "source": [
    "#### Step 0: Global settings"
   ]
  },
  {
   "cell_type": "code",
   "execution_count": 2,
   "id": "1a2757ee39289ab8",
   "metadata": {
    "ExecuteTime": {
     "end_time": "2024-04-02T09:43:43.919584Z",
     "start_time": "2024-04-02T09:43:43.916834Z"
    },
    "collapsed": false
   },
   "outputs": [],
   "source": [
    "# create directory\n",
    "Path(\"../Data/BinnenlandsBestuur\").mkdir(parents=True, exist_ok=True)"
   ]
  },
  {
   "cell_type": "code",
   "execution_count": 3,
   "id": "86068eb6c41d0faa",
   "metadata": {
    "ExecuteTime": {
     "end_time": "2024-04-02T09:43:43.922751Z",
     "start_time": "2024-04-02T09:43:43.920422Z"
    },
    "collapsed": false
   },
   "outputs": [],
   "source": [
    "base_url = 'https://www.binnenlandsbestuur.nl'\n",
    "csv_file_path = '../Data/BinnenlandsBestuur/binnenlandsbestuur_articles.csv'"
   ]
  },
  {
   "cell_type": "markdown",
   "id": "4f762fe8bff7c782",
   "metadata": {
    "collapsed": false
   },
   "source": [
    "#### Step 1: Initialize CSV file"
   ]
  },
  {
   "cell_type": "code",
   "execution_count": 4,
   "id": "a4b14796250b6ea8",
   "metadata": {
    "ExecuteTime": {
     "end_time": "2024-04-02T09:43:43.926759Z",
     "start_time": "2024-04-02T09:43:43.923951Z"
    },
    "collapsed": false
   },
   "outputs": [],
   "source": [
    "def initialize_csv():\n",
    "    \"\"\"\n",
    "    Initializes the CSV file with the headers\n",
    "    \"\"\"\n",
    "    if not os.path.exists(csv_file_path):\n",
    "        with open(csv_file_path, 'w', newline='', encoding='utf-8') as csvfile:\n",
    "            writer = csv.DictWriter(csvfile, fieldnames=['title', 'subtitle', 'author', 'date', 'content', 'url'])\n",
    "            writer.writeheader()"
   ]
  },
  {
   "cell_type": "markdown",
   "id": "489b89efb8ddc0f8",
   "metadata": {
    "collapsed": false
   },
   "source": [
    "#### Step 2: Is URL already scraped?"
   ]
  },
  {
   "cell_type": "code",
   "execution_count": 5,
   "id": "874160ea60274cb5",
   "metadata": {
    "ExecuteTime": {
     "end_time": "2024-04-02T09:43:43.930969Z",
     "start_time": "2024-04-02T09:43:43.927799Z"
    },
    "collapsed": false
   },
   "outputs": [],
   "source": [
    "def url_already_scraped(url):\n",
    "    \"\"\"\n",
    "    Checks if the URL has already been scraped\n",
    "    \"\"\"\n",
    "    if not os.path.exists(csv_file_path):\n",
    "        return False\n",
    "    with open(csv_file_path, 'r', encoding='utf-8') as csvfile:\n",
    "        reader = csv.DictReader(csvfile)\n",
    "        for row in reader:\n",
    "            if row['url'] == url:\n",
    "                return True\n",
    "    return False"
   ]
  },
  {
   "cell_type": "markdown",
   "id": "9205674ff12cac68",
   "metadata": {
    "collapsed": false
   },
   "source": [
    "#### Step 3: Fetch relevant urls"
   ]
  },
  {
   "cell_type": "code",
   "execution_count": 6,
   "id": "a6361feddb2412fc",
   "metadata": {
    "ExecuteTime": {
     "end_time": "2024-04-02T09:43:43.938086Z",
     "start_time": "2024-04-02T09:43:43.931857Z"
    },
    "collapsed": false
   },
   "outputs": [],
   "source": [
    "def fetch_urls(page_url):\n",
    "    response = requests.get(page_url)\n",
    "    soup = BeautifulSoup(response.text, 'html.parser')\n",
    "    \n",
    "    # Find all articles on the page\n",
    "    article_links = soup.find_all('a', href=True)\n",
    "    \n",
    "    # Filter out the relevant articles\n",
    "    full_links = []\n",
    "    for link in article_links:\n",
    "        if '/digitaal/' in link['href']:\n",
    "            if link['href'].startswith('http') or link['href'].startswith('www'):\n",
    "                full_links.append(link['href'])\n",
    "            else:\n",
    "                full_links.append(base_url + link['href'])\n",
    "    return full_links"
   ]
  },
  {
   "cell_type": "markdown",
   "id": "4368fc7faa670dd7",
   "metadata": {
    "collapsed": false
   },
   "source": [
    "#### Step 4: Scrape URLs"
   ]
  },
  {
   "cell_type": "code",
   "execution_count": 7,
   "id": "af5df38ca7c8c6a",
   "metadata": {
    "ExecuteTime": {
     "end_time": "2024-04-02T09:43:43.943036Z",
     "start_time": "2024-04-02T09:43:43.939047Z"
    },
    "collapsed": false
   },
   "outputs": [],
   "source": [
    "def scrape_article(article_url):\n",
    "    \"\"\"\n",
    "    Scrapes the article at the given URL\n",
    "    \"\"\"\n",
    "    # Article should be a article in the digitaal category\n",
    "    if '/digitaal/' not in article_url:\n",
    "        print(f'Skipping non-digitaal URL: {article_url}')\n",
    "        return None \n",
    "    \n",
    "    try_count = 0\n",
    "    max_tries = 2\n",
    "    \n",
    "    while try_count < max_tries:\n",
    "        try: \n",
    "            response = requests.get(article_url)\n",
    "            soup = BeautifulSoup(response.text, 'html.parser')\n",
    "            \n",
    "            # Check if the url is an article\n",
    "            if not soup.find('h1', class_='c-article-header__heading'):\n",
    "                print(f'Skipping non-article URL: {article_url}')\n",
    "                return None\n",
    "            \n",
    "            # Extract the relevant information\n",
    "            article_data = extract_article_data(soup, article_url)\n",
    "            \n",
    "            if article_data:\n",
    "                return article_data\n",
    "                \n",
    "        except Exception as e:\n",
    "            print(f'Failed to fetch article: {article_url}, {e}')\n",
    "            try_count += 1\n",
    "            print(f'Try {try_count}/{max_tries}')\n",
    "            time.sleep(1)\n",
    "\n",
    "    # Write to problematic URLs file\n",
    "    with open('../Data/BinnenlandsBestuur/problematic_urls.txt', 'a') as f:\n",
    "        f.write(article_url + '\\n')\n",
    "    return None"
   ]
  },
  {
   "cell_type": "code",
   "execution_count": 8,
   "id": "5696e70cb828cf57",
   "metadata": {
    "ExecuteTime": {
     "end_time": "2024-04-02T09:43:43.948960Z",
     "start_time": "2024-04-02T09:43:43.944086Z"
    },
    "collapsed": false
   },
   "outputs": [],
   "source": [
    "def extract_article_data(soup, article_url):\n",
    "    \"\"\"\n",
    "    Extracts the relevant data from the article page\n",
    "    \"\"\"\n",
    "    title = soup.find('h1', class_='c-article-header__heading').text.strip()\n",
    "    \n",
    "    subtitle_div = soup.find('p', class_='c-article-header__lead')\n",
    "    subtitle = subtitle_div.get_text(strip=True) if subtitle_div else 'No subtitle'\n",
    "    \n",
    "    author_div = soup.find('div', class_='c-meta__item c-meta__item--author')\n",
    "    author = author_div.find('a').get_text(strip=True) if author_div else 'No author'\n",
    "    \n",
    "    date_div = soup.find('div', class_='c-meta__item c-meta__item--publicationDate')\n",
    "    date = date_div.get_text(strip=True) if date_div else 'No date'\n",
    "    \n",
    "    content_div = soup.find('div', class_='b-article__container o-container')\n",
    "    paragraphs = content_div.find_all('p') if content_div else []\n",
    "    content = ' '.join([p.get_text(strip=True) for p in paragraphs])\n",
    "    \n",
    "    # Ensure we have the essential information before returning\n",
    "    if not title or not content:\n",
    "        print(f'Skipping article due to missing title or content: {article_url}')\n",
    "        return None\n",
    "    \n",
    "    return {\n",
    "        'title': title,\n",
    "        'subtitle': subtitle,\n",
    "        'author': author,\n",
    "        'date': date,\n",
    "        'content': content,\n",
    "        'url': article_url\n",
    "    }"
   ]
  },
  {
   "cell_type": "markdown",
   "id": "6b161832e0088f78",
   "metadata": {
    "collapsed": false
   },
   "source": [
    "#### Step 5: Setting up the scraper"
   ]
  },
  {
   "cell_type": "code",
   "execution_count": 9,
   "id": "50eadcb269f645f6",
   "metadata": {
    "ExecuteTime": {
     "end_time": "2024-04-02T09:43:43.954268Z",
     "start_time": "2024-04-02T09:43:43.949883Z"
    },
    "collapsed": false
   },
   "outputs": [],
   "source": [
    "def main():\n",
    "    initialize_csv()\n",
    "    new_articles = set([base_url])\n",
    "    visited_articles = set() # Keep track of visited articles this run \n",
    "    iteration = 0\n",
    "    \n",
    "    while new_articles:\n",
    "        print(f\"Iteration {iteration+1}:\")\n",
    "        current_articles = set(new_articles)\n",
    "\n",
    "        potential_new_articles = set()\n",
    "        for link in tqdm(current_articles, desc='Collecting new URLs'):\n",
    "            additional_links = fetch_urls(link)\n",
    "            potential_new_articles.update(additional_links)\n",
    "            visited_articles.add(link)\n",
    "                \n",
    "        # Filter out URLs that have already been scraped\n",
    "        unscraped_articles = [link for link in potential_new_articles if not url_already_scraped(link)]\n",
    "        \n",
    "        # Now, scrape the articles that haven't been scraped yet\n",
    "        for link in tqdm(unscraped_articles, desc='Scraping articles'):\n",
    "            article_data = scrape_article(link)\n",
    "            if article_data: # Directly save to CSV if successfully scraped\n",
    "                with open(csv_file_path, 'a', newline='', encoding='utf-8') as csvfile:\n",
    "                    writer = csv.DictWriter(csvfile, fieldnames=['title', 'subtitle', 'author', 'date', 'content', 'url'])\n",
    "                    writer.writerow(article_data)\n",
    "\n",
    "        # Update new_articles for the next iteration: consider all potential new articles that haven't been visited yet\n",
    "        new_articles = potential_new_articles - visited_articles\n",
    "        iteration += 1\n",
    "                \n",
    "    print('Data collection complete!')"
   ]
  },
  {
   "cell_type": "markdown",
   "id": "4c5031b3e4ca54e0",
   "metadata": {
    "collapsed": false
   },
   "source": [
    "### Step 5: Scrape"
   ]
  },
  {
   "cell_type": "code",
   "execution_count": 10,
   "id": "5fca2c0b8285dbe8",
   "metadata": {
    "ExecuteTime": {
     "end_time": "2024-04-02T09:49:01.494055Z",
     "start_time": "2024-04-02T09:43:43.955959Z"
    },
    "collapsed": false
   },
   "outputs": [
    {
     "name": "stdout",
     "output_type": "stream",
     "text": [
      "Iteration 1:\n"
     ]
    },
    {
     "name": "stderr",
     "output_type": "stream",
     "text": [
      "Collecting new URLs: 100%|██████████| 1/1 [00:00<00:00,  2.73it/s]\n",
      "Scraping articles: 100%|██████████| 5/5 [00:03<00:00,  1.53it/s]\n"
     ]
    },
    {
     "name": "stdout",
     "output_type": "stream",
     "text": [
      "Iteration 2:\n"
     ]
    },
    {
     "name": "stderr",
     "output_type": "stream",
     "text": [
      "Collecting new URLs: 100%|██████████| 5/5 [00:01<00:00,  2.58it/s]\n",
      "Scraping articles: 100%|██████████| 24/24 [00:28<00:00,  1.17s/it]\n"
     ]
    },
    {
     "name": "stdout",
     "output_type": "stream",
     "text": [
      "Iteration 3:\n"
     ]
    },
    {
     "name": "stderr",
     "output_type": "stream",
     "text": [
      "Collecting new URLs: 100%|██████████| 24/24 [00:10<00:00,  2.37it/s]\n",
      "Scraping articles: 100%|██████████| 27/27 [00:38<00:00,  1.41s/it]\n"
     ]
    },
    {
     "name": "stdout",
     "output_type": "stream",
     "text": [
      "Iteration 4:\n"
     ]
    },
    {
     "name": "stderr",
     "output_type": "stream",
     "text": [
      "Collecting new URLs: 100%|██████████| 27/27 [00:10<00:00,  2.51it/s]\n",
      "Scraping articles: 100%|██████████| 24/24 [00:35<00:00,  1.49s/it]\n"
     ]
    },
    {
     "name": "stdout",
     "output_type": "stream",
     "text": [
      "Iteration 5:\n"
     ]
    },
    {
     "name": "stderr",
     "output_type": "stream",
     "text": [
      "Collecting new URLs: 100%|██████████| 24/24 [00:09<00:00,  2.58it/s]\n",
      "Scraping articles: 100%|██████████| 31/31 [00:46<00:00,  1.49s/it]\n"
     ]
    },
    {
     "name": "stdout",
     "output_type": "stream",
     "text": [
      "Iteration 6:\n"
     ]
    },
    {
     "name": "stderr",
     "output_type": "stream",
     "text": [
      "Collecting new URLs: 100%|██████████| 31/31 [00:12<00:00,  2.44it/s]\n",
      "Scraping articles:   6%|▋         | 1/16 [00:00<00:14,  1.06it/s]"
     ]
    },
    {
     "name": "stdout",
     "output_type": "stream",
     "text": [
      "Skipping non-article URL: https://www.binnenlandsbestuur.nl/digitaal/advies-833-miljoen-euro-extra-nodig-voor-cyberweerbaarheid  \n"
     ]
    },
    {
     "name": "stderr",
     "output_type": "stream",
     "text": [
      "Scraping articles:  69%|██████▉   | 11/16 [00:14<00:05,  1.13s/it]"
     ]
    },
    {
     "name": "stdout",
     "output_type": "stream",
     "text": [
      "Skipping non-article URL: https://www.binnenlandsbestuur.nl/digitaal/europese-commissie-vraagt-om-input-voor-digital-resilience-act \n"
     ]
    },
    {
     "name": "stderr",
     "output_type": "stream",
     "text": [
      "Scraping articles: 100%|██████████| 16/16 [00:20<00:00,  1.30s/it]\n"
     ]
    },
    {
     "name": "stdout",
     "output_type": "stream",
     "text": [
      "Iteration 7:\n"
     ]
    },
    {
     "name": "stderr",
     "output_type": "stream",
     "text": [
      "Collecting new URLs: 100%|██████████| 16/16 [00:06<00:00,  2.41it/s]\n",
      "Scraping articles:   5%|▌         | 1/19 [00:00<00:15,  1.19it/s]"
     ]
    },
    {
     "name": "stdout",
     "output_type": "stream",
     "text": [
      "Skipping non-article URL: https://www.binnenlandsbestuur.nl/digitaal/kennispartners\n"
     ]
    },
    {
     "name": "stderr",
     "output_type": "stream",
     "text": [
      "Scraping articles:  26%|██▋       | 5/19 [00:05<00:15,  1.11s/it]"
     ]
    },
    {
     "name": "stdout",
     "output_type": "stream",
     "text": [
      "Skipping non-article URL: https://www.binnenlandsbestuur.nl/digitaal/dossiers\n"
     ]
    },
    {
     "name": "stderr",
     "output_type": "stream",
     "text": [
      "Scraping articles:  47%|████▋     | 9/19 [00:13<00:17,  1.77s/it]"
     ]
    },
    {
     "name": "stdout",
     "output_type": "stream",
     "text": [
      "Skipping non-article URL: https://www.binnenlandsbestuur.nl/digitaal/opinie\n"
     ]
    },
    {
     "name": "stderr",
     "output_type": "stream",
     "text": [
      "Scraping articles:  68%|██████▊   | 13/19 [00:20<00:11,  1.89s/it]"
     ]
    },
    {
     "name": "stdout",
     "output_type": "stream",
     "text": [
      "Skipping non-article URL: https://www.binnenlandsbestuur.nl/digitaal/achtergrond\n"
     ]
    },
    {
     "name": "stderr",
     "output_type": "stream",
     "text": [
      "Scraping articles: 100%|██████████| 19/19 [00:28<00:00,  1.51s/it]\n"
     ]
    },
    {
     "name": "stdout",
     "output_type": "stream",
     "text": [
      "Skipping non-article URL: https://www.binnenlandsbestuur.nl/digitaal/nieuws\n",
      "Iteration 8:\n"
     ]
    },
    {
     "name": "stderr",
     "output_type": "stream",
     "text": [
      "Collecting new URLs: 100%|██████████| 19/19 [00:06<00:00,  2.73it/s]\n",
      "Scraping articles:   3%|▎         | 1/34 [00:00<00:18,  1.80it/s]"
     ]
    },
    {
     "name": "stdout",
     "output_type": "stream",
     "text": [
      "Skipping non-article URL: https://www.binnenlandsbestuur.nl/digitaal/kennispartners\n"
     ]
    },
    {
     "name": "stderr",
     "output_type": "stream",
     "text": [
      "Scraping articles:  38%|███▊      | 13/34 [00:17<00:25,  1.24s/it]"
     ]
    },
    {
     "name": "stdout",
     "output_type": "stream",
     "text": [
      "Skipping non-article URL: https://www.binnenlandsbestuur.nl/digitaal/dossiers\n"
     ]
    },
    {
     "name": "stderr",
     "output_type": "stream",
     "text": [
      "Scraping articles:  62%|██████▏   | 21/34 [00:27<00:13,  1.05s/it]"
     ]
    },
    {
     "name": "stdout",
     "output_type": "stream",
     "text": [
      "Skipping non-article URL: https://www.binnenlandsbestuur.nl/digitaal/opinie\n"
     ]
    },
    {
     "name": "stderr",
     "output_type": "stream",
     "text": [
      "Scraping articles:  88%|████████▊ | 30/34 [00:40<00:05,  1.29s/it]"
     ]
    },
    {
     "name": "stdout",
     "output_type": "stream",
     "text": [
      "Skipping non-article URL: https://www.binnenlandsbestuur.nl/digitaal/achtergrond\n"
     ]
    },
    {
     "name": "stderr",
     "output_type": "stream",
     "text": [
      "Scraping articles:  91%|█████████ | 31/34 [00:41<00:03,  1.14s/it]"
     ]
    },
    {
     "name": "stdout",
     "output_type": "stream",
     "text": [
      "Skipping non-article URL: https://www.binnenlandsbestuur.nl/digitaal/nieuws\n"
     ]
    },
    {
     "name": "stderr",
     "output_type": "stream",
     "text": [
      "Scraping articles: 100%|██████████| 34/34 [00:45<00:00,  1.35s/it]\n"
     ]
    },
    {
     "name": "stdout",
     "output_type": "stream",
     "text": [
      "Iteration 9:\n"
     ]
    },
    {
     "name": "stderr",
     "output_type": "stream",
     "text": [
      "Collecting new URLs: 100%|██████████| 29/29 [00:11<00:00,  2.58it/s]\n",
      "Scraping articles: 0it [00:00, ?it/s]"
     ]
    },
    {
     "name": "stdout",
     "output_type": "stream",
     "text": [
      "Data collection complete!\n"
     ]
    },
    {
     "name": "stderr",
     "output_type": "stream",
     "text": [
      "\n"
     ]
    }
   ],
   "source": [
    "if __name__ == '__main__':\n",
    "    main()"
   ]
  },
  {
   "cell_type": "code",
   "execution_count": 10,
   "id": "60b9d70abfcf8024",
   "metadata": {
    "ExecuteTime": {
     "end_time": "2024-04-02T09:49:01.496902Z",
     "start_time": "2024-04-02T09:49:01.494981Z"
    },
    "collapsed": false
   },
   "outputs": [],
   "source": []
  },
  {
   "cell_type": "code",
   "execution_count": 10,
   "id": "6f459a381804467e",
   "metadata": {
    "ExecuteTime": {
     "end_time": "2024-04-02T09:49:01.499747Z",
     "start_time": "2024-04-02T09:49:01.497872Z"
    },
    "collapsed": false
   },
   "outputs": [],
   "source": []
  },
  {
   "cell_type": "code",
   "execution_count": 11,
   "id": "4adcce336bcc84b9",
   "metadata": {
    "ExecuteTime": {
     "end_time": "2024-04-02T09:49:01.521663Z",
     "start_time": "2024-04-02T09:49:01.500777Z"
    },
    "collapsed": false
   },
   "outputs": [
    {
     "data": {
      "text/html": [
       "<div>\n",
       "<style scoped>\n",
       "    .dataframe tbody tr th:only-of-type {\n",
       "        vertical-align: middle;\n",
       "    }\n",
       "\n",
       "    .dataframe tbody tr th {\n",
       "        vertical-align: top;\n",
       "    }\n",
       "\n",
       "    .dataframe thead th {\n",
       "        text-align: right;\n",
       "    }\n",
       "</style>\n",
       "<table border=\"1\" class=\"dataframe\">\n",
       "  <thead>\n",
       "    <tr style=\"text-align: right;\">\n",
       "      <th></th>\n",
       "      <th>title</th>\n",
       "      <th>subtitle</th>\n",
       "      <th>author</th>\n",
       "      <th>date</th>\n",
       "      <th>content</th>\n",
       "      <th>url</th>\n",
       "    </tr>\n",
       "  </thead>\n",
       "  <tbody>\n",
       "    <tr>\n",
       "      <th>0</th>\n",
       "      <td>Hoe Capgemini steeds dominanter wordt bij IT-o...</td>\n",
       "      <td>Uit een inventarisatie van iBestuur van grote ...</td>\n",
       "      <td>Sjoerd Hartholt</td>\n",
       "      <td>02 april 2024</td>\n",
       "      <td>Uit een inventarisatie van iBestuur van grote ...</td>\n",
       "      <td>https://www.binnenlandsbestuur.nl/digitaal/cap...</td>\n",
       "    </tr>\n",
       "    <tr>\n",
       "      <th>1</th>\n",
       "      <td>AI Act nog onbekend bij veel gemeenten</td>\n",
       "      <td>Een kwart van de gemeenten heeft reeds actie o...</td>\n",
       "      <td>Marjolein van Trigt</td>\n",
       "      <td>01 april 2024</td>\n",
       "      <td>Een kwart van de gemeenten heeft reeds actie o...</td>\n",
       "      <td>https://www.binnenlandsbestuur.nl/digitaal/gro...</td>\n",
       "    </tr>\n",
       "    <tr>\n",
       "      <th>2</th>\n",
       "      <td>Waarom security van sluizen en gemalen een zor...</td>\n",
       "      <td>De IBD schakelt experts in om security van IAC...</td>\n",
       "      <td>Sjoerd Hartholt</td>\n",
       "      <td>29 maart 2024</td>\n",
       "      <td>De IBD schakelt experts in om security van IAC...</td>\n",
       "      <td>https://www.binnenlandsbestuur.nl/digitaal/hoe...</td>\n",
       "    </tr>\n",
       "    <tr>\n",
       "      <th>3</th>\n",
       "      <td>Brussel neemt laatste horde richting Europese ...</td>\n",
       "      <td>De verordening treedt naar verwachting eind ap...</td>\n",
       "      <td>Sjoerd Hartholt</td>\n",
       "      <td>29 maart 2024</td>\n",
       "      <td>De verordening treedt naar verwachting eind ap...</td>\n",
       "      <td>https://www.binnenlandsbestuur.nl/digitaal/laa...</td>\n",
       "    </tr>\n",
       "    <tr>\n",
       "      <th>4</th>\n",
       "      <td>Historische dag voor de AI Act</td>\n",
       "      <td>Vandaag stemt het Europarlement over de AI Act...</td>\n",
       "      <td>Marjolein van Trigt</td>\n",
       "      <td>13 maart 2024</td>\n",
       "      <td>Vandaag stemt het Europarlement over de AI Act...</td>\n",
       "      <td>https://www.binnenlandsbestuur.nl/digitaal/tek...</td>\n",
       "    </tr>\n",
       "    <tr>\n",
       "      <th>...</th>\n",
       "      <td>...</td>\n",
       "      <td>...</td>\n",
       "      <td>...</td>\n",
       "      <td>...</td>\n",
       "      <td>...</td>\n",
       "      <td>...</td>\n",
       "    </tr>\n",
       "    <tr>\n",
       "      <th>163</th>\n",
       "      <td>Overheid: bemoei je met AI</td>\n",
       "      <td>De overheid heeft ook een taak op het gebied v...</td>\n",
       "      <td>Marjolein van Trigt</td>\n",
       "      <td>18 augustus 2023</td>\n",
       "      <td>De overheid heeft ook een taak op het gebied v...</td>\n",
       "      <td>https://www.binnenlandsbestuur.nl/digitaal/bem...</td>\n",
       "    </tr>\n",
       "    <tr>\n",
       "      <th>164</th>\n",
       "      <td>Maak van de Leefomgeving uw zaak</td>\n",
       "      <td>De themadag is gratis en is gericht op beleids...</td>\n",
       "      <td>Centric</td>\n",
       "      <td>25 juni 2015</td>\n",
       "      <td>De themadag is gratis en is gericht op beleids...</td>\n",
       "      <td>https://www.binnenlandsbestuur.nl/digitaal/cen...</td>\n",
       "    </tr>\n",
       "    <tr>\n",
       "      <th>165</th>\n",
       "      <td>Een kleine stap van Napoleon naar gegevensbesc...</td>\n",
       "      <td>Hopelijk doorloopt gegevensbescherming dezelfd...</td>\n",
       "      <td>Marjolein Louwerse</td>\n",
       "      <td>22 januari 2024</td>\n",
       "      <td>Hopelijk doorloopt gegevensbescherming dezelfd...</td>\n",
       "      <td>https://www.binnenlandsbestuur.nl/digitaal/wat...</td>\n",
       "    </tr>\n",
       "    <tr>\n",
       "      <th>166</th>\n",
       "      <td>Digitale lessen uit de vorige eeuw</td>\n",
       "      <td>Politiek gezien viel aan automatisering niets ...</td>\n",
       "      <td>Margo ter Bekke</td>\n",
       "      <td>30 september 2022</td>\n",
       "      <td>Politiek gezien viel aan automatisering niets ...</td>\n",
       "      <td>https://www.binnenlandsbestuur.nl/digitaal/ess...</td>\n",
       "    </tr>\n",
       "    <tr>\n",
       "      <th>167</th>\n",
       "      <td>Centric levert bijdrage Mastercourse Succesvol...</td>\n",
       "      <td>Centric verzorgt op 19 september tijdens de Ma...</td>\n",
       "      <td>Centric</td>\n",
       "      <td>30 augustus 2012</td>\n",
       "      <td>Centric verzorgt op 19 september tijdens de Ma...</td>\n",
       "      <td>https://www.binnenlandsbestuur.nl/digitaal/cen...</td>\n",
       "    </tr>\n",
       "  </tbody>\n",
       "</table>\n",
       "<p>168 rows × 6 columns</p>\n",
       "</div>"
      ],
      "text/plain": [
       "                                                 title  \\\n",
       "0    Hoe Capgemini steeds dominanter wordt bij IT-o...   \n",
       "1               AI Act nog onbekend bij veel gemeenten   \n",
       "2    Waarom security van sluizen en gemalen een zor...   \n",
       "3    Brussel neemt laatste horde richting Europese ...   \n",
       "4                       Historische dag voor de AI Act   \n",
       "..                                                 ...   \n",
       "163                         Overheid: bemoei je met AI   \n",
       "164                   Maak van de Leefomgeving uw zaak   \n",
       "165  Een kleine stap van Napoleon naar gegevensbesc...   \n",
       "166                 Digitale lessen uit de vorige eeuw   \n",
       "167  Centric levert bijdrage Mastercourse Succesvol...   \n",
       "\n",
       "                                              subtitle               author  \\\n",
       "0    Uit een inventarisatie van iBestuur van grote ...      Sjoerd Hartholt   \n",
       "1    Een kwart van de gemeenten heeft reeds actie o...  Marjolein van Trigt   \n",
       "2    De IBD schakelt experts in om security van IAC...      Sjoerd Hartholt   \n",
       "3    De verordening treedt naar verwachting eind ap...      Sjoerd Hartholt   \n",
       "4    Vandaag stemt het Europarlement over de AI Act...  Marjolein van Trigt   \n",
       "..                                                 ...                  ...   \n",
       "163  De overheid heeft ook een taak op het gebied v...  Marjolein van Trigt   \n",
       "164  De themadag is gratis en is gericht op beleids...              Centric   \n",
       "165  Hopelijk doorloopt gegevensbescherming dezelfd...   Marjolein Louwerse   \n",
       "166  Politiek gezien viel aan automatisering niets ...      Margo ter Bekke   \n",
       "167  Centric verzorgt op 19 september tijdens de Ma...              Centric   \n",
       "\n",
       "                  date                                            content  \\\n",
       "0        02 april 2024  Uit een inventarisatie van iBestuur van grote ...   \n",
       "1        01 april 2024  Een kwart van de gemeenten heeft reeds actie o...   \n",
       "2        29 maart 2024  De IBD schakelt experts in om security van IAC...   \n",
       "3        29 maart 2024  De verordening treedt naar verwachting eind ap...   \n",
       "4        13 maart 2024  Vandaag stemt het Europarlement over de AI Act...   \n",
       "..                 ...                                                ...   \n",
       "163   18 augustus 2023  De overheid heeft ook een taak op het gebied v...   \n",
       "164       25 juni 2015  De themadag is gratis en is gericht op beleids...   \n",
       "165    22 januari 2024  Hopelijk doorloopt gegevensbescherming dezelfd...   \n",
       "166  30 september 2022  Politiek gezien viel aan automatisering niets ...   \n",
       "167   30 augustus 2012  Centric verzorgt op 19 september tijdens de Ma...   \n",
       "\n",
       "                                                   url  \n",
       "0    https://www.binnenlandsbestuur.nl/digitaal/cap...  \n",
       "1    https://www.binnenlandsbestuur.nl/digitaal/gro...  \n",
       "2    https://www.binnenlandsbestuur.nl/digitaal/hoe...  \n",
       "3    https://www.binnenlandsbestuur.nl/digitaal/laa...  \n",
       "4    https://www.binnenlandsbestuur.nl/digitaal/tek...  \n",
       "..                                                 ...  \n",
       "163  https://www.binnenlandsbestuur.nl/digitaal/bem...  \n",
       "164  https://www.binnenlandsbestuur.nl/digitaal/cen...  \n",
       "165  https://www.binnenlandsbestuur.nl/digitaal/wat...  \n",
       "166  https://www.binnenlandsbestuur.nl/digitaal/ess...  \n",
       "167  https://www.binnenlandsbestuur.nl/digitaal/cen...  \n",
       "\n",
       "[168 rows x 6 columns]"
      ]
     },
     "execution_count": 11,
     "metadata": {},
     "output_type": "execute_result"
    }
   ],
   "source": [
    "pd.read_csv(csv_file_path)"
   ]
  },
  {
   "cell_type": "code",
   "execution_count": 11,
   "id": "8040fced47d02379",
   "metadata": {
    "ExecuteTime": {
     "end_time": "2024-04-02T09:49:01.524488Z",
     "start_time": "2024-04-02T09:49:01.522702Z"
    },
    "collapsed": false
   },
   "outputs": [],
   "source": []
  }
 ],
 "metadata": {
  "kernelspec": {
   "display_name": "Python 3 (ipykernel)",
   "language": "python",
   "name": "python3"
  },
  "language_info": {
   "codemirror_mode": {
    "name": "ipython",
    "version": 3
   },
   "file_extension": ".py",
   "mimetype": "text/x-python",
   "name": "python",
   "nbconvert_exporter": "python",
   "pygments_lexer": "ipython3",
   "version": "3.11.7"
  }
 },
 "nbformat": 4,
 "nbformat_minor": 5
}
