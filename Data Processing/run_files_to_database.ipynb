{
 "cells": [
  {
   "cell_type": "code",
   "execution_count": 20,
   "id": "initial_id",
   "metadata": {
    "ExecuteTime": {
     "end_time": "2024-04-25T08:11:21.141297Z",
     "start_time": "2024-04-25T08:11:21.132465Z"
    },
    "collapsed": true
   },
   "outputs": [],
   "source": [
    "import os\n",
    "from langchain.retrievers import ParentDocumentRetriever\n",
    "from langchain.storage import LocalFileStore, create_kv_docstore\n",
    "from langchain_community.embeddings import HuggingFaceEmbeddings\n",
    "from langchain_community.vectorstores.chroma import Chroma\n",
    "from langchain_text_splitters import RecursiveCharacterTextSplitter\n",
    "from files_to_database import main_to_database\n",
    "from sentence_transformers import SentenceTransformer\n",
    "import chromadb"
   ]
  },
  {
   "cell_type": "markdown",
   "id": "70d0de43cd3cff20",
   "metadata": {
    "collapsed": false
   },
   "source": [
    "# Embedding models"
   ]
  },
  {
   "cell_type": "code",
   "execution_count": 21,
   "id": "22a9840a0ff5945a",
   "metadata": {
    "ExecuteTime": {
     "end_time": "2024-04-25T08:11:28.674907Z",
     "start_time": "2024-04-25T08:11:22.627717Z"
    },
    "collapsed": false
   },
   "outputs": [
    {
     "data": {
      "text/plain": [
       "SentenceTransformer(\n",
       "  (0): Transformer({'max_seq_length': 128, 'do_lower_case': False}) with Transformer model: BertModel \n",
       "  (1): Pooling({'word_embedding_dimension': 384, 'pooling_mode_cls_token': False, 'pooling_mode_mean_tokens': True, 'pooling_mode_max_tokens': False, 'pooling_mode_mean_sqrt_len_tokens': False, 'pooling_mode_weightedmean_tokens': False, 'pooling_mode_lasttoken': False, 'include_prompt': True})\n",
       ")"
      ]
     },
     "execution_count": 21,
     "metadata": {},
     "output_type": "execute_result"
    }
   ],
   "source": [
    "# For Apple Silicon users: run the following code to make use of MPS (Apple's Metal Performance Shaders) for faster computation\n",
    "import torch\n",
    "\n",
    "# set device to MPS\n",
    "device = torch.device(\"mps\")\n",
    "\n",
    "# empty cache and set memory fraction\n",
    "torch.mps.empty_cache()\n",
    "torch.mps.set_per_process_memory_fraction(0.9)\n",
    "\n",
    "# choose embeddings model\n",
    "multilingual = \"sentence-transformers/paraphrase-multilingual-MiniLM-L12-v2\"\n",
    "\n",
    "# local embedding model, download to cache folder\n",
    "embedding_model = SentenceTransformer(multilingual, cache_folder=\"../Data/sentence_transformers\", device=device)\n",
    "\n",
    "embeddings_retrieve = HuggingFaceEmbeddings(model_name=multilingual, cache_folder=\"../Data/sentence_transformers\")\n",
    "\n",
    "# move model to MPS\n",
    "embedding_model.to(device)"
   ]
  },
  {
   "cell_type": "code",
   "execution_count": null,
   "id": "5e179a812b5671b3",
   "metadata": {
    "ExecuteTime": {
     "end_time": "2024-04-24T10:42:28.688096Z",
     "start_time": "2024-04-24T10:42:28.685606Z"
    },
    "collapsed": false
   },
   "outputs": [],
   "source": [
    "# when not using apple silicon\n",
    "\n",
    "# # choose embeddings model\n",
    "# multilingual = \"sentence-transformers/paraphrase-multilingual-MiniLM-L12-v2\"  \n"
   ]
  },
  {
   "cell_type": "code",
   "execution_count": null,
   "id": "bc4261ae58ef99d1",
   "metadata": {
    "ExecuteTime": {
     "end_time": "2024-04-24T10:42:34.466765Z",
     "start_time": "2024-04-24T10:42:28.690702Z"
    },
    "collapsed": false
   },
   "outputs": [],
   "source": [
    "# when not using apple silicon\n",
    "\n",
    "# # local embedding model, download to cache folder (using cuda instead of cpu is 3x faster)\n",
    "# embedding_model = SentenceTransformer(\n",
    "#     model_name_or_path=multilingual, \n",
    "#     cache_folder=\"../Data/sentence_transformers\"\n",
    "# )\n",
    "# \n",
    "# embeddings_retrieve = HuggingFaceEmbeddings(\n",
    "#     model_name=multilingual,\n",
    "#     cache_folder=\"../Data/sentence_transformers\"\n",
    "# )"
   ]
  },
  {
   "cell_type": "code",
   "execution_count": 22,
   "id": "7d2bcef6ddf1e15a",
   "metadata": {
    "ExecuteTime": {
     "end_time": "2024-04-25T08:11:31.884773Z",
     "start_time": "2024-04-25T08:11:31.881377Z"
    },
    "collapsed": false
   },
   "outputs": [
    {
     "name": "stdout",
     "output_type": "stream",
     "text": [
      "Model: sentence-transformers/paraphrase-multilingual-MiniLM-L12-v2\n",
      "Embedding size: 384\n",
      "Number of layers: 12\n",
      "Number of attention heads: 12\n",
      "Number of hidden units: 384\n",
      "Number of hidden layers: 12\n",
      "Number of characters allowed in the sentence transformer: 128. Extra tokens are truncated.\n"
     ]
    }
   ],
   "source": [
    "# print characteristics of the model\n",
    "print(f\"Model: {multilingual}\")\n",
    "print(f\"Embedding size: {embedding_model.get_sentence_embedding_dimension()}\")\n",
    "print(f\"Number of layers: {len(embedding_model[0].auto_model.encoder.layer)}\")\n",
    "print(f\"Number of attention heads: {embedding_model[0].auto_model.config.num_attention_heads}\")\n",
    "print(f\"Number of hidden units: {embedding_model[0].auto_model.config.hidden_size}\")\n",
    "print(f\"Number of hidden layers: {embedding_model[0].auto_model.config.num_hidden_layers}\")\n",
    "print(f\"Number of characters allowed in the sentence transformer: {embedding_model.max_seq_length}. Extra tokens are truncated.\")"
   ]
  },
  {
   "cell_type": "markdown",
   "id": "fad85b990bb2bc95",
   "metadata": {
    "collapsed": false
   },
   "source": [
    "# Chroma client"
   ]
  },
  {
   "cell_type": "code",
   "execution_count": 23,
   "id": "a839902770f2049c",
   "metadata": {
    "ExecuteTime": {
     "end_time": "2024-04-25T08:11:34.449143Z",
     "start_time": "2024-04-25T08:11:34.440259Z"
    },
    "collapsed": false
   },
   "outputs": [],
   "source": [
    "# initiate the chroma client, which is the interface to the database\n",
    "database_path = \"../Data/my_vectordb\"\n",
    "chroma_client = chromadb.PersistentClient(path=database_path)"
   ]
  },
  {
   "cell_type": "markdown",
   "id": "2b295dea220464e9",
   "metadata": {},
   "source": [
    "# Retrievers"
   ]
  },
  {
   "cell_type": "code",
   "execution_count": 24,
   "id": "65fd29357d73eca1",
   "metadata": {
    "ExecuteTime": {
     "end_time": "2024-04-25T08:11:36.848048Z",
     "start_time": "2024-04-25T08:11:36.844331Z"
    }
   },
   "outputs": [],
   "source": [
    "# define the retrievers, parent and child splitters, MAKE SURE TO CHANGE ALSO IN files_to_database.py\n",
    "parent_splitter = RecursiveCharacterTextSplitter(\n",
    "        separators=[\"\\n\\n\", \"\\n\", \".\", \"!\", \"?\"],\n",
    "        keep_separator=True,\n",
    "        chunk_size=1000,\n",
    "        chunk_overlap=0)\n",
    "child_splitter = RecursiveCharacterTextSplitter(\n",
    "        separators=[\"\\n\\n\", \"\\n\", \".\", \"!\", \"?\"],\n",
    "        keep_separator=True,\n",
    "        chunk_size=128,\n",
    "        chunk_overlap=0)"
   ]
  },
  {
   "cell_type": "markdown",
   "id": "8c4caf0b3dba0a64",
   "metadata": {
    "collapsed": false
   },
   "source": [
    "# Binnenlands Bestuur"
   ]
  },
  {
   "cell_type": "code",
   "execution_count": 11,
   "id": "acfc7e483bb61e8e",
   "metadata": {
    "ExecuteTime": {
     "end_time": "2024-04-24T15:01:11.570920Z",
     "start_time": "2024-04-24T15:01:11.553453Z"
    }
   },
   "outputs": [],
   "source": [
    "# define collection\n",
    "binnenlands_bestuur_db= Chroma(\n",
    "    collection_name=\"binnenlands_bestuur\",\n",
    "    client=chroma_client,\n",
    "    persist_directory=\"../Data/my_vectordb\",\n",
    "    embedding_function=embeddings_retrieve,\n",
    ")\n",
    "\n",
    "# define file path\n",
    "csv_path = \"../Data/BinnenlandsBestuur/binnenlandsbestuur_articles.csv\"\n",
    "\n",
    "# define columns to be embedded and columns to be added to the metadata\n",
    "columns_to_embed = [\"content\"]\n",
    "columns_to_metadata = [\"title\", \"subtitle\", \"author\", \"date\", \"url\"]"
   ]
  },
  {
   "cell_type": "code",
   "execution_count": 12,
   "id": "199cff2d6d8a3dd3",
   "metadata": {
    "ExecuteTime": {
     "end_time": "2024-04-24T15:01:15.715086Z",
     "start_time": "2024-04-24T15:01:15.710285Z"
    }
   },
   "outputs": [],
   "source": [
    "# path for parent splits\n",
    "full_path = os.path.abspath(\"../Data/my_vectordb/full_documents/binnenlands_bestuur\")\n",
    "fs = LocalFileStore(full_path)\n",
    "store = create_kv_docstore(fs)\n",
    "\n",
    "binnenlands_bestuur_db_retriever = ParentDocumentRetriever(\n",
    "    vectorstore=binnenlands_bestuur_db,\n",
    "    docstore=store,\n",
    "    child_splitter=child_splitter,\n",
    "    child_metadata_field=columns_to_metadata,\n",
    "    parent_splitter=parent_splitter,\n",
    "    )"
   ]
  },
  {
   "cell_type": "code",
   "execution_count": 13,
   "id": "81ec52114932163f",
   "metadata": {
    "ExecuteTime": {
     "end_time": "2024-04-24T15:02:04.122456Z",
     "start_time": "2024-04-24T15:01:18.164992Z"
    }
   },
   "outputs": [
    {
     "name": "stdout",
     "output_type": "stream",
     "text": [
      "Getting existing documents from the database...\n",
      "Chunk 1: processing 10 new documents...\n",
      "Chunk 2: processing 10 new documents...\n",
      "Chunk 3: processing 10 new documents...\n",
      "Chunk 4: processing 10 new documents...\n",
      "Chunk 5: processing 10 new documents...\n",
      "Chunk 6: processing 10 new documents...\n",
      "Chunk 7: processing 9 new documents...\n",
      "Chunk 8: processing 8 new documents...\n",
      "Chunk 9: processing 6 new documents...\n",
      "Chunk 10: processing 9 new documents...\n",
      "Chunk 11: processing 7 new documents...\n",
      "Chunk 12: processing 8 new documents...\n",
      "Chunk 13: processing 10 new documents...\n",
      "Chunk 14: processing 7 new documents...\n",
      "Chunk 15: processing 8 new documents...\n",
      "Chunk 16: processing 9 new documents...\n",
      "Chunk 17: processing 10 new documents...\n",
      "Chunk 18: processing 9 new documents...\n",
      "Chunk 19: processing 8 new documents...\n",
      "Chunk 20: processing 8 new documents...\n",
      "Chunk 21: processing 9 new documents...\n",
      "Chunk 22: processing 7 new documents...\n",
      "Chunk 23: processing 8 new documents...\n",
      "Chunk 24: processing 4 new documents...\n",
      "Chunk 25: processing 7 new documents...\n",
      "Chunk 26: processing 5 new documents...\n",
      "Chunk 27: processing 8 new documents...\n",
      "Chunk 28: processing 8 new documents...\n",
      "Chunk 29: processing 7 new documents...\n",
      "Chunk 30: processing 10 new documents...\n",
      "Chunk 31: processing 9 new documents...\n",
      "Chunk 32: processing 9 new documents...\n",
      "Chunk 33: processing 9 new documents...\n",
      "Chunk 34: processing 10 new documents...\n",
      "Chunk 35: processing 10 new documents...\n",
      "Chunk 36: processing 10 new documents...\n",
      "Chunk 37: processing 10 new documents...\n",
      "Chunk 38: processing 10 new documents...\n",
      "Chunk 39: processing 10 new documents...\n",
      "Chunk 40: processing 10 new documents...\n",
      "Chunk 41: processing 3 new documents...\n"
     ]
    }
   ],
   "source": [
    "main_to_database(\n",
    "    collection=binnenlands_bestuur_db,\n",
    "    file_path=csv_path, \n",
    "    columns_to_embed=columns_to_embed, \n",
    "    columns_to_metadata=columns_to_metadata, \n",
    "    retriever=binnenlands_bestuur_db_retriever, \n",
    "    unique_identifier=\"url\",\n",
    "    chunk_size=10\n",
    ")"
   ]
  },
  {
   "cell_type": "markdown",
   "id": "42b8f2234757e48f",
   "metadata": {
    "collapsed": false
   },
   "source": [
    "# iBestuur"
   ]
  },
  {
   "cell_type": "code",
   "execution_count": 14,
   "id": "3a3030599addb541",
   "metadata": {
    "ExecuteTime": {
     "end_time": "2024-04-24T15:02:44.743569Z",
     "start_time": "2024-04-24T15:02:44.735172Z"
    }
   },
   "outputs": [],
   "source": [
    "# define collection\n",
    "ibestuur_db= Chroma(\n",
    "    collection_name=\"ibestuur\",\n",
    "    client=chroma_client,\n",
    "    persist_directory=\"../../Data/my_vectordb\",\n",
    "    embedding_function=embeddings_retrieve,\n",
    ")\n",
    "\n",
    "# define file path\n",
    "csv_path = \"../Data/iBestuur/ibestuur_articles.csv\"\n",
    "\n",
    "# define columns to be embedded and columns to be added to the metadata\n",
    "columns_to_embed = [\"content\"]\n",
    "columns_to_metadata = [\"url\",\"title\"]"
   ]
  },
  {
   "cell_type": "code",
   "execution_count": 15,
   "id": "aa15190f299d5c65",
   "metadata": {
    "ExecuteTime": {
     "end_time": "2024-04-24T15:02:48.256502Z",
     "start_time": "2024-04-24T15:02:48.251780Z"
    }
   },
   "outputs": [],
   "source": [
    "# path for parent splits\n",
    "full_path = os.path.abspath(\"../Data/my_vectordb/full_documents/ibestuur\")\n",
    "fs = LocalFileStore(full_path)\n",
    "store = create_kv_docstore(fs)\n",
    "\n",
    "ibestuur_db_retriever = ParentDocumentRetriever(\n",
    "    vectorstore=ibestuur_db,\n",
    "    docstore=store,\n",
    "    child_splitter=child_splitter,\n",
    "    child_metadata_field=columns_to_metadata,\n",
    "    parent_splitter=parent_splitter,\n",
    "    )"
   ]
  },
  {
   "cell_type": "code",
   "execution_count": 16,
   "id": "5dec75fc3252d070",
   "metadata": {
    "ExecuteTime": {
     "end_time": "2024-04-24T15:14:52.259703Z",
     "start_time": "2024-04-24T15:02:49.948349Z"
    }
   },
   "outputs": [
    {
     "name": "stdout",
     "output_type": "stream",
     "text": [
      "Getting existing documents from the database...\n",
      "Chunk 1: processing 100 new documents...\n",
      "Chunk 2: processing 100 new documents...\n",
      "Chunk 3: processing 100 new documents...\n",
      "Chunk 4: processing 100 new documents...\n",
      "Chunk 5: processing 100 new documents...\n",
      "Chunk 6: processing 100 new documents...\n",
      "Chunk 7: processing 100 new documents...\n",
      "Chunk 8: processing 100 new documents...\n",
      "Chunk 9: processing 100 new documents...\n",
      "Chunk 10: processing 100 new documents...\n",
      "Chunk 11: processing 100 new documents...\n",
      "Chunk 12: processing 100 new documents...\n",
      "Chunk 13: processing 100 new documents...\n",
      "Chunk 14: processing 100 new documents...\n",
      "Chunk 15: processing 100 new documents...\n",
      "Chunk 16: processing 100 new documents...\n",
      "Chunk 17: processing 100 new documents...\n",
      "Chunk 18: processing 100 new documents...\n",
      "Chunk 19: processing 100 new documents...\n",
      "Chunk 20: processing 100 new documents...\n",
      "Chunk 21: processing 100 new documents...\n",
      "Chunk 22: processing 100 new documents...\n",
      "Chunk 23: processing 100 new documents...\n",
      "Chunk 24: processing 100 new documents...\n",
      "Chunk 25: processing 100 new documents...\n",
      "Chunk 26: processing 100 new documents...\n",
      "Chunk 27: processing 100 new documents...\n",
      "Chunk 28: processing 100 new documents...\n",
      "Chunk 29: processing 100 new documents...\n",
      "Chunk 30: processing 100 new documents...\n",
      "Chunk 31: processing 100 new documents...\n",
      "Chunk 32: processing 100 new documents...\n",
      "Chunk 33: processing 100 new documents...\n",
      "Chunk 34: processing 100 new documents...\n",
      "Chunk 35: processing 100 new documents...\n",
      "Chunk 36: processing 100 new documents...\n",
      "Chunk 37: processing 100 new documents...\n",
      "Chunk 38: processing 100 new documents...\n",
      "Chunk 39: processing 100 new documents...\n",
      "Chunk 40: processing 100 new documents...\n",
      "Chunk 41: processing 100 new documents...\n",
      "Chunk 42: processing 100 new documents...\n",
      "Chunk 43: processing 100 new documents...\n",
      "Chunk 44: processing 100 new documents...\n",
      "Chunk 45: processing 100 new documents...\n",
      "Chunk 46: processing 100 new documents...\n",
      "Chunk 47: processing 100 new documents...\n",
      "Chunk 48: processing 100 new documents...\n",
      "Chunk 49: processing 100 new documents...\n",
      "Chunk 50: processing 100 new documents...\n",
      "Chunk 51: processing 100 new documents...\n",
      "Chunk 52: processing 100 new documents...\n",
      "Chunk 53: processing 100 new documents...\n",
      "Chunk 54: processing 34 new documents...\n"
     ]
    }
   ],
   "source": [
    "main_to_database(\n",
    "    collection=ibestuur_db,\n",
    "    file_path=csv_path, \n",
    "    columns_to_embed=columns_to_embed, \n",
    "    columns_to_metadata=columns_to_metadata, \n",
    "    retriever=ibestuur_db_retriever, \n",
    "    unique_identifier=\"url\",\n",
    "    chunk_size=100\n",
    ")"
   ]
  },
  {
   "cell_type": "markdown",
   "id": "936223807cf7b790",
   "metadata": {
    "collapsed": false
   },
   "source": [
    "# Rijksoverheid"
   ]
  },
  {
   "cell_type": "code",
   "execution_count": 17,
   "id": "ceac2a00bbf1b0db",
   "metadata": {
    "ExecuteTime": {
     "end_time": "2024-04-24T15:14:52.281817Z",
     "start_time": "2024-04-24T15:14:52.262534Z"
    },
    "collapsed": false
   },
   "outputs": [],
   "source": [
    "# define collection\n",
    "rijksoverheid_db= Chroma(\n",
    "    collection_name=\"rijksoverheid\",\n",
    "    client=chroma_client,\n",
    "    persist_directory=\"../../Data/my_vectordb\",\n",
    "    embedding_function=embeddings_retrieve,\n",
    ")\n",
    "\n",
    "# define file path\n",
    "csv_path = \"../Data/Rijksoverheid/documents_ict_20200101.csv\"\n",
    "\n",
    "# define columns to be embedded and columns to be added to the metadata\n",
    "columns_to_embed = [\"content\"]\n",
    "columns_to_metadata = [\"id\", \"type\", \"title\", \"canonical\", \"introduction\", \"lastmodified\", \"available\", \"initialdate\"]"
   ]
  },
  {
   "cell_type": "code",
   "execution_count": 18,
   "id": "4e29334acc3f2ea6",
   "metadata": {
    "ExecuteTime": {
     "end_time": "2024-04-24T15:14:52.285454Z",
     "start_time": "2024-04-24T15:14:52.282868Z"
    },
    "collapsed": false
   },
   "outputs": [],
   "source": [
    "# path for parent splits\n",
    "full_path = os.path.abspath(\"../Data/my_vectordb/full_documents/rijksoverheid\")\n",
    "fs = LocalFileStore(full_path)\n",
    "store = create_kv_docstore(fs)\n",
    "\n",
    "rijksoverheid_db_retriever = ParentDocumentRetriever(\n",
    "    vectorstore=rijksoverheid_db,\n",
    "    docstore=store,\n",
    "    child_splitter=child_splitter,\n",
    "    child_metadata_field=columns_to_metadata,\n",
    "    parent_splitter=parent_splitter,\n",
    ")"
   ]
  },
  {
   "cell_type": "code",
   "execution_count": 19,
   "id": "db6892cf9923d316",
   "metadata": {
    "ExecuteTime": {
     "end_time": "2024-04-24T15:20:02.488109Z",
     "start_time": "2024-04-24T15:14:52.286552Z"
    }
   },
   "outputs": [
    {
     "name": "stdout",
     "output_type": "stream",
     "text": [
      "Getting existing documents from the database...\n",
      "Chunk 1: processing 10 new documents...\n",
      "Chunk 2: processing 10 new documents...\n",
      "Chunk 3: processing 10 new documents...\n",
      "Chunk 4: processing 10 new documents...\n",
      "Chunk 5: processing 10 new documents...\n",
      "Chunk 6: processing 10 new documents...\n",
      "Chunk 7: processing 10 new documents...\n",
      "Chunk 8: processing 10 new documents...\n",
      "Chunk 9: processing 10 new documents...\n",
      "Chunk 10: processing 10 new documents...\n",
      "Chunk 11: processing 10 new documents...\n",
      "Chunk 12: processing 10 new documents...\n",
      "Chunk 13: processing 10 new documents...\n",
      "Chunk 14: processing 10 new documents...\n",
      "Chunk 15: processing 10 new documents...\n",
      "Chunk 16: processing 10 new documents...\n",
      "Chunk 17: processing 10 new documents...\n",
      "Chunk 18: processing 10 new documents...\n",
      "Chunk 19: processing 10 new documents...\n",
      "Chunk 20: processing 10 new documents...\n",
      "Chunk 21: only duplicates, skipping to next chunk...\n",
      "Chunk 22: only duplicates, skipping to next chunk...\n",
      "Chunk 23: only duplicates, skipping to next chunk...\n",
      "Chunk 24: only duplicates, skipping to next chunk...\n",
      "Chunk 25: only duplicates, skipping to next chunk...\n",
      "Chunk 26: only duplicates, skipping to next chunk...\n",
      "Chunk 27: only duplicates, skipping to next chunk...\n",
      "Chunk 28: only duplicates, skipping to next chunk...\n",
      "Chunk 29: only duplicates, skipping to next chunk...\n",
      "Chunk 30: only duplicates, skipping to next chunk...\n",
      "Chunk 31: only duplicates, skipping to next chunk...\n",
      "Chunk 32: only duplicates, skipping to next chunk...\n",
      "Chunk 33: only duplicates, skipping to next chunk...\n",
      "Chunk 34: only duplicates, skipping to next chunk...\n",
      "Chunk 35: only duplicates, skipping to next chunk...\n",
      "Chunk 36: only duplicates, skipping to next chunk...\n",
      "Chunk 37: only duplicates, skipping to next chunk...\n",
      "Chunk 38: only duplicates, skipping to next chunk...\n",
      "Chunk 39: only duplicates, skipping to next chunk...\n",
      "Chunk 40: only duplicates, skipping to next chunk...\n",
      "Chunk 41: processing 10 new documents...\n",
      "Chunk 42: processing 10 new documents...\n",
      "Chunk 43: processing 10 new documents...\n",
      "Chunk 44: processing 10 new documents...\n",
      "Chunk 45: processing 10 new documents...\n",
      "Chunk 46: processing 10 new documents...\n",
      "Chunk 47: processing 10 new documents...\n",
      "Chunk 48: processing 10 new documents...\n",
      "Chunk 49: processing 10 new documents...\n",
      "Chunk 50: processing 10 new documents...\n",
      "Chunk 51: processing 10 new documents...\n",
      "Chunk 52: processing 10 new documents...\n",
      "Chunk 53: processing 10 new documents...\n",
      "Chunk 54: processing 10 new documents...\n",
      "Chunk 55: processing 10 new documents...\n",
      "Chunk 56: processing 10 new documents...\n",
      "Chunk 57: processing 10 new documents...\n",
      "Chunk 58: processing 10 new documents...\n",
      "Chunk 59: processing 10 new documents...\n",
      "Chunk 60: processing 10 new documents...\n",
      "Chunk 61: processing 10 new documents...\n",
      "Chunk 62: processing 10 new documents...\n",
      "Chunk 63: processing 7 new documents...\n"
     ]
    }
   ],
   "source": [
    "main_to_database(\n",
    "    collection=rijksoverheid_db,\n",
    "    file_path=csv_path, \n",
    "    columns_to_embed=columns_to_embed, \n",
    "    columns_to_metadata=columns_to_metadata, \n",
    "    retriever=rijksoverheid_db_retriever, \n",
    "    unique_identifier=\"id\",\n",
    "    chunk_size=10\n",
    ")"
   ]
  },
  {
   "cell_type": "markdown",
   "id": "ddd5a2e8d778a97c",
   "metadata": {
    "collapsed": false
   },
   "source": [
    "# TenderNed"
   ]
  },
  {
   "cell_type": "code",
   "execution_count": 25,
   "id": "c2da00a638e330a",
   "metadata": {
    "ExecuteTime": {
     "end_time": "2024-04-25T08:11:44.474997Z",
     "start_time": "2024-04-25T08:11:44.461162Z"
    }
   },
   "outputs": [],
   "source": [
    "# define collection\n",
    "tenderned_db= Chroma(\n",
    "    collection_name=\"tenderned\",\n",
    "    client=chroma_client,\n",
    "    persist_directory=\"../Data/my_vectordb\",\n",
    "    embedding_function=embeddings_retrieve,\n",
    ")\n",
    "\n",
    "# define file path\n",
    "csv_path = \"../Data/TenderNed/TenderNed_2023.csv\"\n",
    "\n",
    "# define columns to be embedded and columns to be added to the metadata\n",
    "columns_to_embed = [\"tender_description\"]\n",
    "columns_to_metadata = [\"ocid\", \"date\", \"initiationType\", \"tender_title\", \"tender_documents\", \"tender_nationalOrEuropean\", \"tender_noticeTypeDetails\", \"tender_mainProcurementCategory\", \"tender_awardCriteriaDetails\", \"tender_tenderPeriod.endDate\", \"tender_contractPeriod.endDate\", \"tender_classification.description\", \"tender_value.amount\", \"tender_lots\"]"
   ]
  },
  {
   "cell_type": "code",
   "execution_count": 26,
   "id": "14aa9e6c8e52e107",
   "metadata": {
    "ExecuteTime": {
     "end_time": "2024-04-25T08:11:45.298166Z",
     "start_time": "2024-04-25T08:11:45.294927Z"
    }
   },
   "outputs": [],
   "source": [
    "# path for parent splits\n",
    "full_path = os.path.abspath(\"../Data/my_vectordb/full_documents/tenderned\")\n",
    "fs = LocalFileStore(full_path)\n",
    "store = create_kv_docstore(fs)\n",
    "\n",
    "tenderned_db_retriever = ParentDocumentRetriever(\n",
    "    vectorstore=tenderned_db,\n",
    "    docstore=store,\n",
    "    child_splitter=child_splitter,\n",
    "    child_metadata_field=columns_to_metadata,\n",
    "    parent_splitter=parent_splitter,\n",
    ")"
   ]
  },
  {
   "cell_type": "code",
   "execution_count": 27,
   "id": "6942d95cd1fce367",
   "metadata": {
    "ExecuteTime": {
     "end_time": "2024-04-25T08:19:54.856582Z",
     "start_time": "2024-04-25T08:11:45.968427Z"
    }
   },
   "outputs": [
    {
     "name": "stdout",
     "output_type": "stream",
     "text": [
      "Getting existing documents from the database...\n",
      "Chunk 1: processing 1000 new documents...\n",
      "Chunk 2: processing 1000 new documents...\n",
      "Chunk 3: processing 1000 new documents...\n",
      "Chunk 4: processing 1000 new documents...\n",
      "Chunk 5: processing 1000 new documents...\n",
      "Chunk 6: processing 1000 new documents...\n",
      "Chunk 7: processing 1000 new documents...\n",
      "Chunk 8: processing 1000 new documents...\n",
      "Chunk 9: processing 1000 new documents...\n",
      "Chunk 10: processing 1000 new documents...\n",
      "Chunk 11: processing 1000 new documents...\n",
      "Chunk 12: processing 998 new documents...\n",
      "Chunk 13: processing 999 new documents...\n",
      "Chunk 14: processing 1000 new documents...\n",
      "Chunk 15: processing 1000 new documents...\n",
      "Chunk 16: processing 1000 new documents...\n",
      "Chunk 17: processing 998 new documents...\n",
      "Chunk 18: processing 999 new documents...\n",
      "Chunk 19: processing 1000 new documents...\n",
      "Chunk 20: processing 999 new documents...\n",
      "Chunk 21: processing 998 new documents...\n",
      "Chunk 22: processing 1000 new documents...\n",
      "Chunk 23: processing 1000 new documents...\n",
      "Chunk 24: processing 1000 new documents...\n",
      "Chunk 25: processing 1000 new documents...\n",
      "Chunk 26: processing 957 new documents...\n",
      "Chunk 27: processing 1000 new documents...\n",
      "Chunk 28: processing 1000 new documents...\n",
      "Chunk 29: processing 1000 new documents...\n",
      "Chunk 30: processing 1000 new documents...\n",
      "Chunk 31: processing 998 new documents...\n",
      "Chunk 32: processing 1000 new documents...\n",
      "Chunk 33: processing 66 new documents...\n"
     ]
    }
   ],
   "source": [
    "main_to_database(\n",
    "    collection=tenderned_db,\n",
    "    file_path=csv_path, \n",
    "    columns_to_embed=columns_to_embed, \n",
    "    columns_to_metadata=columns_to_metadata, \n",
    "    retriever=tenderned_db_retriever, \n",
    "    unique_identifier=\"ocid\",\n",
    "    chunk_size=1000\n",
    ")"
   ]
  }
 ],
 "metadata": {
  "kernelspec": {
   "display_name": "Python 3",
   "language": "python",
   "name": "python3"
  },
  "language_info": {
   "codemirror_mode": {
    "name": "ipython",
    "version": 2
   },
   "file_extension": ".py",
   "mimetype": "text/x-python",
   "name": "python",
   "nbconvert_exporter": "python",
   "pygments_lexer": "ipython2",
   "version": "2.7.6"
  }
 },
 "nbformat": 4,
 "nbformat_minor": 5
}
