{
 "cells": [
  {
   "cell_type": "markdown",
   "id": "bc2f259421579995",
   "metadata": {
    "collapsed": false
   },
   "source": [
    "# Model Finetuning through Huggingface's API"
   ]
  },
  {
   "cell_type": "markdown",
   "id": "6f1da51bb4684506",
   "metadata": {
    "collapsed": false
   },
   "source": [
    "### Imports"
   ]
  },
  {
   "cell_type": "code",
   "execution_count": 13,
   "id": "c3df72c6f0f55514",
   "metadata": {
    "ExecuteTime": {
     "end_time": "2024-05-01T13:10:16.439461Z",
     "start_time": "2024-05-01T13:10:16.436478Z"
    },
    "collapsed": false
   },
   "outputs": [],
   "source": [
    "from getpass import getpass\n",
    "import os"
   ]
  },
  {
   "cell_type": "markdown",
   "id": "de7e1fd6bd85b086",
   "metadata": {
    "collapsed": false
   },
   "source": [
    "### Set up AutoTrain environment"
   ]
  },
  {
   "cell_type": "code",
   "execution_count": 14,
   "id": "4b173f0373f6a344",
   "metadata": {
    "ExecuteTime": {
     "end_time": "2024-05-01T13:10:20.536855Z",
     "start_time": "2024-05-01T13:10:17.414146Z"
    },
    "collapsed": false
   },
   "outputs": [
    {
     "name": "stdout",
     "output_type": "stream",
     "text": [
      "> \u001b[1mINFO    Installing latest xformers\u001b[0m\r\n",
      "> \u001b[1mINFO    Successfully installed latest xformers\u001b[0m\r\n"
     ]
    }
   ],
   "source": [
    "!autotrain setup"
   ]
  },
  {
   "cell_type": "code",
   "execution_count": 15,
   "id": "d9f1ab31dd26004",
   "metadata": {
    "ExecuteTime": {
     "end_time": "2024-05-01T13:10:21.035487Z",
     "start_time": "2024-05-01T13:10:21.031915Z"
    },
    "collapsed": false
   },
   "outputs": [],
   "source": [
    "project_name = 'my_LLM4GovTech'\n",
    "model_name = 'BramVanroy/GEITje-7B-ultra'"
   ]
  },
  {
   "cell_type": "code",
   "execution_count": null,
   "id": "c6d1294f33484aff",
   "metadata": {
    "ExecuteTime": {
     "end_time": "2024-05-01T13:10:23.039955Z",
     "start_time": "2024-05-01T13:10:21.587856Z"
    },
    "collapsed": false
   },
   "outputs": [],
   "source": [
    "push_to_hub = True\n",
    "hf_token = getpass('Enter your Hugging Face API token: ')\n",
    "repo_id = getpass('Enter repo id')"
   ]
  },
  {
   "cell_type": "markdown",
   "id": "ab4fb54cd891ceaf",
   "metadata": {
    "collapsed": false
   },
   "source": [
    "## Model parameters"
   ]
  },
  {
   "cell_type": "code",
   "execution_count": 17,
   "id": "f85f3a797446e3cf",
   "metadata": {
    "ExecuteTime": {
     "end_time": "2024-05-01T13:10:24.725979Z",
     "start_time": "2024-05-01T13:10:24.723659Z"
    },
    "collapsed": false
   },
   "outputs": [],
   "source": [
    "learning_rate = 2e-4\n",
    "num_epochs = 4\n",
    "batch_size = 1\n",
    "block_size = 1024\n",
    "trainer = \"sft\"\n",
    "warmup_ratio = 0.1\n",
    "weight_decay = 0.01\n",
    "gradient_accumulation = 4\n",
    "use_fp16 = True\n",
    "use_peft = True\n",
    "use_int4 = True\n",
    "lora_r = 16\n",
    "lora_alpha = 32\n",
    "lora_dropout = 0.045"
   ]
  },
  {
   "cell_type": "markdown",
   "id": "d0b5721685b2c8",
   "metadata": {
    "collapsed": false
   },
   "source": [
    "## Set up the environment"
   ]
  },
  {
   "cell_type": "code",
   "execution_count": 18,
   "id": "53264188e57ddc31",
   "metadata": {
    "ExecuteTime": {
     "end_time": "2024-05-01T13:10:26.084087Z",
     "start_time": "2024-05-01T13:10:26.078386Z"
    },
    "collapsed": false
   },
   "outputs": [],
   "source": [
    "os.environ[\"PROJECT_NAME\"] = project_name\n",
    "os.environ[\"MODEL_NAME\"] = model_name\n",
    "os.environ[\"PUSH_TO_HUB\"] = str(push_to_hub)\n",
    "os.environ[\"HF_TOKEN\"] = hf_token\n",
    "os.environ[\"REPO_ID\"] = repo_id\n",
    "os.environ[\"LEARNING_RATE\"] = str(learning_rate)\n",
    "os.environ[\"NUM_EPOCHS\"] = str(num_epochs)\n",
    "os.environ[\"BATCH_SIZE\"] = str(batch_size)\n",
    "os.environ[\"BLOCK_SIZE\"] = str(block_size)\n",
    "os.environ[\"WARMUP_RATIO\"] = str(warmup_ratio)\n",
    "os.environ[\"WEIGHT_DECAY\"] = str(weight_decay)\n",
    "os.environ[\"GRADIENT_ACCUMULATION\"] = str(gradient_accumulation)\n",
    "os.environ[\"USE_FP16\"] = str(use_fp16)\n",
    "os.environ[\"USE_PEFT\"] = str(use_peft)\n",
    "os.environ[\"USE_INT4\"] = str(use_int4)\n",
    "os.environ[\"LORA_R\"] = str(lora_r)\n",
    "os.environ[\"LORA_ALPHA\"] = str(lora_alpha)\n",
    "os.environ[\"LORA_DROPOUT\"] = str(lora_dropout)"
   ]
  },
  {
   "cell_type": "markdown",
   "id": "4fd715851492c5b3",
   "metadata": {
    "collapsed": false
   },
   "source": [
    "## Run AutoTrain in the notebook"
   ]
  },
  {
   "cell_type": "code",
   "execution_count": 19,
   "id": "57c946ae2c4ebe7a",
   "metadata": {
    "ExecuteTime": {
     "end_time": "2024-05-01T13:10:29.885372Z",
     "start_time": "2024-05-01T13:10:27.265960Z"
    },
    "collapsed": false
   },
   "outputs": [
    {
     "name": "stdout",
     "output_type": "stream",
     "text": [
      "usage: autotrain <command> [<args>]\r\n",
      "AutoTrain advanced CLI: error: unrecognized arguments: --fp16 --use-int4\r\n"
     ]
    }
   ],
   "source": [
    "!autotrain llm \\\n",
    "--train \\\n",
    "--model ${MODEL_NAME} \\\n",
    "--project-name ${PROJECT_NAME} \\\n",
    "--data-path data/ \\\n",
    "--text-column text \\\n",
    "--lr ${LEARNING_RATE} \\\n",
    "--batch-size ${BATCH_SIZE} \\\n",
    "--epochs ${NUM_EPOCHS} \\\n",
    "--block-size ${BLOCK_SIZE} \\\n",
    "--warmup-ratio ${WARMUP_RATIO} \\\n",
    "--lora-r ${LORA_R} \\\n",
    "--lora-alpha ${LORA_ALPHA} \\\n",
    "--lora-dropout ${LORA_DROPOUT} \\\n",
    "--weight-decay ${WEIGHT_DECAY} \\\n",
    "--gradient-accumulation ${GRADIENT_ACCUMULATION} \\\n",
    "$( [[ \"$USE_FP16\" == \"True\" ]] && echo \"--fp16\" ) \\\n",
    "$( [[ \"$USE_PEFT\" == \"True\" ]] && echo \"--use-peft\" ) \\\n",
    "$( [[ \"$USE_INT4\" == \"True\" ]] && echo \"--use-int4\" ) \\\n",
    "$( [[ \"$PUSH_TO_HUB\" == \"True\" ]] && echo \"--push-to-hub --token ${HF_TOKEN} --repo-id ${REPO_ID}\" )"
   ]
  },
  {
   "cell_type": "code",
   "execution_count": null,
   "id": "44bf18420ff9840",
   "metadata": {
    "collapsed": false
   },
   "outputs": [],
   "source": []
  }
 ],
 "metadata": {
  "kernelspec": {
   "display_name": "Python 3",
   "language": "python",
   "name": "python3"
  },
  "language_info": {
   "codemirror_mode": {
    "name": "ipython",
    "version": 2
   },
   "file_extension": ".py",
   "mimetype": "text/x-python",
   "name": "python",
   "nbconvert_exporter": "python",
   "pygments_lexer": "ipython2",
   "version": "2.7.6"
  }
 },
 "nbformat": 4,
 "nbformat_minor": 5
}
